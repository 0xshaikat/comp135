{
  "nbformat": 4,
  "nbformat_minor": 0,
  "metadata": {
    "colab": {
      "name": "project02.ipynb",
      "provenance": []
    },
    "kernelspec": {
      "name": "python3",
      "display_name": "Python 3"
    },
    "accelerator": "GPU"
  },
  "cells": [
    {
      "cell_type": "markdown",
      "metadata": {
        "id": "nMTMGsNK7E4y",
        "colab_type": "text"
      },
      "source": [
        "# COMP135 Project 02\n",
        "### Shaikat Islam"
      ]
    },
    {
      "cell_type": "markdown",
      "metadata": {
        "id": "RiMamvpA7dB_",
        "colab_type": "text"
      },
      "source": [
        "#### Import data into Google Colab"
      ]
    },
    {
      "cell_type": "code",
      "metadata": {
        "id": "mp_JsRev2zg7",
        "colab_type": "code",
        "outputId": "7bfaafb2-78db-4f72-bdf8-aa4b4ba0de2f",
        "colab": {
          "resources": {
            "http://localhost:8080/nbextensions/google.colab/files.js": {
              "data": "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",
              "ok": true,
              "headers": [
                [
                  "content-type",
                  "application/javascript"
                ]
              ],
              "status": 200,
              "status_text": ""
            }
          },
          "base_uri": "https://localhost:8080/",
          "height": 142
        }
      },
      "source": [
        "from google.colab import files\n",
        "uploaded = files.upload()"
      ],
      "execution_count": 0,
      "outputs": [
        {
          "output_type": "display_data",
          "data": {
            "text/html": [
              "\n",
              "     <input type=\"file\" id=\"files-1866f1a5-534b-488d-96c5-2eb1ae5fb059\" name=\"files[]\" multiple disabled />\n",
              "     <output id=\"result-1866f1a5-534b-488d-96c5-2eb1ae5fb059\">\n",
              "      Upload widget is only available when the cell has been executed in the\n",
              "      current browser session. Please rerun this cell to enable.\n",
              "      </output>\n",
              "      <script src=\"/nbextensions/google.colab/files.js\"></script> "
            ],
            "text/plain": [
              "<IPython.core.display.HTML object>"
            ]
          },
          "metadata": {
            "tags": []
          }
        },
        {
          "output_type": "stream",
          "text": [
            "Saving x_test.csv to x_test.csv\n",
            "Saving x_train.csv to x_train.csv\n",
            "Saving y_train.csv to y_train.csv\n"
          ],
          "name": "stdout"
        }
      ]
    },
    {
      "cell_type": "code",
      "metadata": {
        "id": "gsyPm4pR3gxe",
        "colab_type": "code",
        "outputId": "e6c8a55b-1b08-4c91-e434-09ee2c7b0b8e",
        "colab": {
          "resources": {
            "http://localhost:8080/nbextensions/google.colab/files.js": {
              "data": "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",
              "ok": true,
              "headers": [
                [
                  "content-type",
                  "application/javascript"
                ]
              ],
              "status": 200,
              "status_text": ""
            }
          },
          "base_uri": "https://localhost:8080/",
          "height": 74
        }
      },
      "source": [
        "uploaded = files.upload()"
      ],
      "execution_count": 0,
      "outputs": [
        {
          "output_type": "display_data",
          "data": {
            "text/html": [
              "\n",
              "     <input type=\"file\" id=\"files-08da8af5-583b-4caa-bcaa-6c05e49bfb57\" name=\"files[]\" multiple disabled />\n",
              "     <output id=\"result-08da8af5-583b-4caa-bcaa-6c05e49bfb57\">\n",
              "      Upload widget is only available when the cell has been executed in the\n",
              "      current browser session. Please rerun this cell to enable.\n",
              "      </output>\n",
              "      <script src=\"/nbextensions/google.colab/files.js\"></script> "
            ],
            "text/plain": [
              "<IPython.core.display.HTML object>"
            ]
          },
          "metadata": {
            "tags": []
          }
        },
        {
          "output_type": "stream",
          "text": [
            "Saving glove.6B.50d.txt to glove.6B.50d.txt\n"
          ],
          "name": "stdout"
        }
      ]
    },
    {
      "cell_type": "markdown",
      "metadata": {
        "id": "fOVBnh927fkq",
        "colab_type": "text"
      },
      "source": [
        "### 0.0 - Loading and Preprocessing Data\n",
        "\n",
        "Data was loaded using pandas, and preprocessed. I used the Natural Language ToolKit (nltk) to preprocess the data. First, I converted all the sentences to lowercase. After that, I handled contractions (words with apostrophes in them) by converting them into a form without apostrophes, as defined within the dictionary named 'appos' (taken from the comments section in a vidhy blog). After this, I removed all the stop words (commonly occurring words which are not relevant in the context of the data), using nltk's stopwords dictionary. After this, I removed punctuation from the words. Finally, I used lemmatization to convert all the words in a sentence to their base form (lemma), which removes inflection and determines the part of speech."
      ]
    },
    {
      "cell_type": "code",
      "metadata": {
        "id": "U9ZQOXeA7sKh",
        "colab_type": "code",
        "outputId": "76ba682a-aed9-49d6-f3eb-a63f3d33ff10",
        "colab": {
          "base_uri": "https://localhost:8080/",
          "height": 136
        }
      },
      "source": [
        "import numpy as np\n",
        "import pandas as pd\n",
        "import nltk\n",
        "nltk.download('punkt')\n",
        "nltk.download('stopwords')\n",
        "from nltk.tokenize import word_tokenize\n",
        "from nltk.corpus import stopwords\n",
        "from nltk.stem.porter import PorterStemmer\n",
        "from sklearn.feature_extraction.text import CountVectorizer\n",
        "\n",
        "x_train_df = pd.read_csv('x_train.csv')\n",
        "y_train_df = pd.read_csv('y_train.csv')\n",
        "\n",
        "# Check that data has actually been loaded into Google Colab.\n",
        "tr_text_list = x_train_df['text'].values.tolist()\n",
        "print(tr_text_list[15])\n",
        "\n",
        "# Get vocab count \n",
        "cv = CountVectorizer()\n",
        "word_count_vector = cv.fit_transform(tr_text_list)\n",
        "print(word_count_vector.shape)\n",
        "# appos to be used in preprocessing\n",
        "appos = {\n",
        "\"aren't\" : \"are not\",\n",
        "\"can't\" : \"cannot\",\n",
        "\"couldn't\" : \"could not\",\n",
        "\"didn't\" : \"did not\",\n",
        "\"doesn't\" : \"does not\",\n",
        "\"don't\" : \"do not\",\n",
        "\"hadn't\" : \"had not\",\n",
        "\"hasn't\" : \"has not\",\n",
        "\"haven't\" : \"have not\",\n",
        "\"he'd\" : \"he would\",\n",
        "\"he'll\" : \"he will\",\n",
        "\"he's\" : \"he is\",\n",
        "\"i'd\" : \"I would\",\n",
        "\"i'd\" : \"I had\",\n",
        "\"i'll\" : \"I will\",\n",
        "\"i'm\" : \"I am\",\n",
        "\"isn't\" : \"is not\",\n",
        "\"it's\" : \"it is\",\n",
        "\"it'll\":\"it will\",\n",
        "\"i've\" : \"I have\",\n",
        "\"let's\" : \"let us\",\n",
        "\"mightn't\" : \"might not\",\n",
        "\"mustn't\" : \"must not\",\n",
        "\"shan't\" : \"shall not\",\n",
        "\"she'd\" : \"she would\",\n",
        "\"she'll\" : \"she will\",\n",
        "\"she's\" : \"she is\",\n",
        "\"shouldn't\" : \"should not\",\n",
        "\"that's\" : \"that is\",\n",
        "\"there's\" : \"there is\",\n",
        "\"they'd\" : \"they would\",\n",
        "\"they'll\" : \"they will\",\n",
        "\"they're\" : \"they are\",\n",
        "\"they've\" : \"they have\",\n",
        "\"we'd\" : \"we would\",\n",
        "\"we're\" : \"we are\",\n",
        "\"weren't\" : \"were not\",\n",
        "\"we've\" : \"we have\",\n",
        "\"what'll\" : \"what will\",\n",
        "\"what're\" : \"what are\",\n",
        "\"what's\" : \"what is\",\n",
        "\"what've\" : \"what have\",\n",
        "\"where's\" : \"where is\",\n",
        "\"who'd\" : \"who would\",\n",
        "\"who'll\" : \"who will\",\n",
        "\"who're\" : \"who are\",\n",
        "\"who's\" : \"who is\",\n",
        "\"who've\" : \"who have\",\n",
        "\"won't\" : \"will not\",\n",
        "\"wouldn't\" : \"would not\",\n",
        "\"you'd\" : \"you would\",\n",
        "\"you'll\" : \"you will\",\n",
        "\"you're\" : \"you are\",\n",
        "\"you've\" : \"you have\",\n",
        "\"'re\": \" are\",\n",
        "\"wasn't\": \"was not\",\n",
        "\"we'll\":\" will\",\n",
        "\"didn't\": \"did not\"\n",
        "}\n",
        "\n",
        "# Preprocess Data\n",
        "def preprocess(review_arr):\n",
        "  processed = []\n",
        "\n",
        "  # case characters by converting them all to lowercase\n",
        "  for text in review_arr:\n",
        "    processed.append(text.lower())\n",
        "\n",
        "  # negation handling by converting apostrophes to standard lexicon \n",
        "  negation = []\n",
        "  for text in processed:\n",
        "    words = text.split()\n",
        "    reformed = [appos[word] if word in appos else word for word in words]\n",
        "    reformed = \" \".join(reformed)\n",
        "    negation.append(reformed)\n",
        "\n",
        "  # tokenize data by converting text to tokens\n",
        "  tokenized = []\n",
        "  for text in negation:\n",
        "    tokenized.append(word_tokenize(text))\n",
        "\n",
        "  # remove stopwords from sentences (words that are most commonly occurring, but not\n",
        "  # relevant in the context of the data)\n",
        "  # we use english stopwords here, which may not be relevant in the context of foreign words\n",
        "  stop_words = set(stopwords.words('english'))\n",
        "  for text in tokenized:\n",
        "    text = [i for i in text if not i in stop_words]\n",
        "  \n",
        "  # remove stand-alone punctuation\n",
        "  stripped = []\n",
        "  for text in tokenized:\n",
        "    words = [word for word in text if word.isalpha()]\n",
        "    stripped.append(words)\n",
        "\n",
        "  # stemming/lemmatization finds the base or dictionary form of the word known as the lemma\n",
        "  # using vocabulary and morphological analysis\n",
        "  # use gensim package -- which takes into account part-of-speech as well.\n",
        "  lemmas = []\n",
        "  porter = PorterStemmer()\n",
        "  for text in stripped:\n",
        "    lemmafied = []\n",
        "    for t in text:\n",
        "      lemmafied.append(porter.stem(t))\n",
        "    lemmas.append(lemmafied)\n",
        "\n",
        "  return lemmas\n",
        "  \n",
        "p = preprocess(tr_text_list)\n",
        "print(p[15])"
      ],
      "execution_count": 0,
      "outputs": [
        {
          "output_type": "stream",
          "text": [
            "[nltk_data] Downloading package punkt to /root/nltk_data...\n",
            "[nltk_data]   Package punkt is already up-to-date!\n",
            "[nltk_data] Downloading package stopwords to /root/nltk_data...\n",
            "[nltk_data]   Package stopwords is already up-to-date!\n",
            "Don't make the same mistake I did.\n",
            "(2400, 4510)\n",
            "['do', 'not', 'make', 'the', 'same', 'mistak', 'i', 'did']\n"
          ],
          "name": "stdout"
        }
      ]
    },
    {
      "cell_type": "markdown",
      "metadata": {
        "id": "RTwe329XP5y7",
        "colab_type": "text"
      },
      "source": [
        "### 1.1 Vectorizing Preprocessed Reviews to Feature Vectors Using Bag of Words Model and TF-IDF \n",
        "\n",
        "For the vectorization process, I decided to use sklearn's TfidVectorizer and TfidTransformer classes. Before any preprocessing, the input training data set initially had 4510 unique words, and the test data set had 1921. After preprocessing, which included the removal of stop words, conversion of contractions, and removal of punctuation, the vocabulary size decreased to 3414 words. There is no real order to these words, as there is no link from the words in these reviews in the training and test sets to any parts of speech -- further work would be required to determine the part of speech, perhaps using a Conditional Random Fields (CRF) model, which uses probability to determine part of speech. I do not exclude rare words, nor do I exclude common words. I do exclude stop words, which are words that are mostly commonly occurring, but not\n",
        "relevant in the context of the data, as determined by nltk's stopwords dictionary. Because I use the TfidTransformer and TfidVectorizer, common words are penalized, as I use the inverse document frequency (IDF) multiplied by the term frequency (TF) as the \"count\" for each feature vector. I also only use single features."
      ]
    },
    {
      "cell_type": "code",
      "metadata": {
        "id": "EJ5QLTUKQS_C",
        "colab_type": "code",
        "outputId": "b90220fb-a57c-4b88-8524-882df97d3172",
        "colab": {
          "base_uri": "https://localhost:8080/",
          "height": 34
        }
      },
      "source": [
        "from sklearn.feature_extraction.text import TfidfTransformer\n",
        "from sklearn.feature_extraction.text import TfidfVectorizer\n",
        "from sklearn.feature_extraction.text import CountVectorizer\n",
        "\n",
        "vectorizer = TfidfVectorizer()\n",
        "\n",
        "# feature transform training set\n",
        "x_tr_pre = preprocess(tr_text_list)\n",
        "x_tr = []\n",
        "for text in x_tr_pre:\n",
        "  sentence = \" \".join(text)\n",
        "  x_tr.append(sentence)\n",
        "x_train = vectorizer.fit_transform(x_tr)\n",
        "\n",
        "tfidf = dict(zip(vectorizer.get_feature_names(), vectorizer.idf_))\n",
        "\n",
        "\n",
        "\n",
        "# feature transform testing set\n",
        "x_test_df = pd.read_csv('x_test.csv')\n",
        "te_text_list = x_test_df['text'].values.tolist()\n",
        "x_te_pre = preprocess(te_text_list)\n",
        "x_te = [] \n",
        "for text in x_te_pre:\n",
        "  sentence = \" \".join(text)\n",
        "  x_te.append(sentence)\n",
        "x_test = vectorizer.transform(x_te)\n",
        "print(x_train.shape, x_test.shape)"
      ],
      "execution_count": 0,
      "outputs": [
        {
          "output_type": "stream",
          "text": [
            "(2400, 3414) (600, 3414)\n"
          ],
          "name": "stdout"
        }
      ]
    },
    {
      "cell_type": "markdown",
      "metadata": {
        "id": "4noadxfnZym1",
        "colab_type": "text"
      },
      "source": [
        "### 1.2 Logistic Regression Model for Bag-of-Words\n"
      ]
    },
    {
      "cell_type": "code",
      "metadata": {
        "id": "ArxRs_fPZ39k",
        "colab_type": "code",
        "outputId": "ff26e8f4-1170-4659-c9af-da8b6fff0cf9",
        "colab": {
          "base_uri": "https://localhost:8080/",
          "height": 539
        }
      },
      "source": [
        "from sklearn.linear_model import LogisticRegression \n",
        "from sklearn.model_selection import GridSearchCV\n",
        "import seaborn as sns\n",
        "\n",
        "logreg = LogisticRegression()\n",
        "# Grid Search for Hyperparameters\n",
        "penalty = ['l1', 'l2']\n",
        "C = np.logspace(0, 6, 12)\n",
        "hyperparams = dict(C=C, penalty=penalty)\n",
        "clf = GridSearchCV(logreg, hyperparams, cv=5, verbose=0)\n",
        "clf.fit(x_train, y_train_df)\n",
        "print(\"BEST SCORE: \")\n",
        "print(clf.best_score_)\n",
        "print(\"STANDARD DEVIATIONS\")\n",
        "print(clf.cv_results_['std_test_score'])\n",
        "print(\"STANDARD DEVIATION FOR BEST SCORE:\")\n",
        "print(clf.cv_results_['std_test_score'][clf.best_index_])\n",
        "\n",
        "pivot = pd.pivot_table(pd.DataFrame(clf.cv_results_), values='mean_test_score', index='param_C', columns='param_penalty')\n",
        "ax = sns.heatmap(pivot)"
      ],
      "execution_count": 0,
      "outputs": [
        {
          "output_type": "stream",
          "text": [
            "/usr/local/lib/python3.6/dist-packages/sklearn/linear_model/logistic.py:432: FutureWarning: Default solver will be changed to 'lbfgs' in 0.22. Specify a solver to silence this warning.\n",
            "  FutureWarning)\n",
            "/usr/local/lib/python3.6/dist-packages/sklearn/utils/validation.py:724: DataConversionWarning: A column-vector y was passed when a 1d array was expected. Please change the shape of y to (n_samples, ), for example using ravel().\n",
            "  y = column_or_1d(y, warn=True)\n",
            "/usr/local/lib/python3.6/dist-packages/sklearn/svm/base.py:929: ConvergenceWarning: Liblinear failed to converge, increase the number of iterations.\n",
            "  \"the number of iterations.\", ConvergenceWarning)\n"
          ],
          "name": "stderr"
        },
        {
          "output_type": "stream",
          "text": [
            "BEST SCORE: \n",
            "0.81875\n",
            "STANDARD DEVIATIONS\n",
            "[0.03578    0.02763854 0.03165022 0.02871677 0.02825971 0.02977345\n",
            " 0.01545603 0.02904738 0.01171122 0.02822897 0.00962852 0.02190573\n",
            " 0.00962852 0.02138438 0.01801812 0.01929306 0.01755942 0.02021585\n",
            " 0.01352724 0.01974666 0.02162657 0.01884697 0.01942757 0.01577841]\n",
            "STANDARD DEVIATION FOR BEST SCORE:\n",
            "0.0287167682335213\n"
          ],
          "name": "stdout"
        },
        {
          "output_type": "display_data",
          "data": {
            "image/png": "[encoded data removed]",
            "text/plain": [
              "<Figure size 432x288 with 2 Axes>"
            ]
          },
          "metadata": {
            "tags": []
          }
        }
      ]
    },
    {
      "cell_type": "markdown",
      "metadata": {
        "id": "4Az8UPWVsw3r",
        "colab_type": "text"
      },
      "source": [
        "### 1.3 Multilayer Perceptron (MLP) Model with Bag-Of-Words"
      ]
    },
    {
      "cell_type": "code",
      "metadata": {
        "id": "KKY_2AFxtue5",
        "colab_type": "code",
        "outputId": "26f16af8-365d-4e2c-8007-ba99cf0989ed",
        "colab": {
          "base_uri": "https://localhost:8080/",
          "height": 1000
        }
      },
      "source": [
        "from sklearn.neural_network import MLPClassifier\n",
        "from sklearn.model_selection import GridSearchCV\n",
        "import seaborn as sns\n",
        "\n",
        "mlp = MLPClassifier(max_iter=120)\n",
        "\n",
        "hyperparams = {\n",
        "    'hidden_layer_sizes': [(50,50,50), (50,100,50), (100,), (256,)],\n",
        "    'activation': ['identity','logistic', 'relu', 'tanh'],\n",
        "}\n",
        "\n",
        "clf_mlp = GridSearchCV(mlp, hyperparams, cv=5, verbose=0)\n",
        "clf_mlp.fit(x_train, y_train_df.values.ravel()) \n",
        "print(\"BEST SCORE: \")\n",
        "print(clf_mlp.best_score_)\n",
        "print(\"STANDARD DEVIATIONS\")\n",
        "print(clf_mlp.cv_results_['std_test_score'])\n",
        "print(\"STANDARD DEVIATION FOR BEST SCORE:\")\n",
        "print(clf_mlp.cv_results_['std_test_score'][clf_mlp.best_index_])\n",
        "\n",
        "pivot_mlp = pd.pivot_table(pd.DataFrame(clf_mlp.cv_results_), values='mean_test_score', index='param_hidden_layer_sizes', columns='param_activation')\n"
      ],
      "execution_count": 0,
      "outputs": [
        {
          "output_type": "stream",
          "text": [
            "/usr/local/lib/python3.6/dist-packages/sklearn/neural_network/multilayer_perceptron.py:566: ConvergenceWarning: Stochastic Optimizer: Maximum iterations (120) reached and the optimization hasn't converged yet.\n",
            "  % self.max_iter, ConvergenceWarning)\n",
            "/usr/local/lib/python3.6/dist-packages/sklearn/neural_network/multilayer_perceptron.py:566: ConvergenceWarning: Stochastic Optimizer: Maximum iterations (120) reached and the optimization hasn't converged yet.\n",
            "  % self.max_iter, ConvergenceWarning)\n",
            "/usr/local/lib/python3.6/dist-packages/sklearn/neural_network/multilayer_perceptron.py:566: ConvergenceWarning: Stochastic Optimizer: Maximum iterations (120) reached and the optimization hasn't converged yet.\n",
            "  % self.max_iter, ConvergenceWarning)\n",
            "/usr/local/lib/python3.6/dist-packages/sklearn/neural_network/multilayer_perceptron.py:566: ConvergenceWarning: Stochastic Optimizer: Maximum iterations (120) reached and the optimization hasn't converged yet.\n",
            "  % self.max_iter, ConvergenceWarning)\n",
            "/usr/local/lib/python3.6/dist-packages/sklearn/neural_network/multilayer_perceptron.py:566: ConvergenceWarning: Stochastic Optimizer: Maximum iterations (120) reached and the optimization hasn't converged yet.\n",
            "  % self.max_iter, ConvergenceWarning)\n",
            "/usr/local/lib/python3.6/dist-packages/sklearn/neural_network/multilayer_perceptron.py:566: ConvergenceWarning: Stochastic Optimizer: Maximum iterations (120) reached and the optimization hasn't converged yet.\n",
            "  % self.max_iter, ConvergenceWarning)\n",
            "/usr/local/lib/python3.6/dist-packages/sklearn/neural_network/multilayer_perceptron.py:566: ConvergenceWarning: Stochastic Optimizer: Maximum iterations (120) reached and the optimization hasn't converged yet.\n",
            "  % self.max_iter, ConvergenceWarning)\n",
            "/usr/local/lib/python3.6/dist-packages/sklearn/neural_network/multilayer_perceptron.py:566: ConvergenceWarning: Stochastic Optimizer: Maximum iterations (120) reached and the optimization hasn't converged yet.\n",
            "  % self.max_iter, ConvergenceWarning)\n",
            "/usr/local/lib/python3.6/dist-packages/sklearn/neural_network/multilayer_perceptron.py:566: ConvergenceWarning: Stochastic Optimizer: Maximum iterations (120) reached and the optimization hasn't converged yet.\n",
            "  % self.max_iter, ConvergenceWarning)\n",
            "/usr/local/lib/python3.6/dist-packages/sklearn/neural_network/multilayer_perceptron.py:566: ConvergenceWarning: Stochastic Optimizer: Maximum iterations (120) reached and the optimization hasn't converged yet.\n",
            "  % self.max_iter, ConvergenceWarning)\n",
            "/usr/local/lib/python3.6/dist-packages/sklearn/neural_network/multilayer_perceptron.py:566: ConvergenceWarning: Stochastic Optimizer: Maximum iterations (120) reached and the optimization hasn't converged yet.\n",
            "  % self.max_iter, ConvergenceWarning)\n",
            "/usr/local/lib/python3.6/dist-packages/sklearn/neural_network/multilayer_perceptron.py:566: ConvergenceWarning: Stochastic Optimizer: Maximum iterations (120) reached and the optimization hasn't converged yet.\n",
            "  % self.max_iter, ConvergenceWarning)\n",
            "/usr/local/lib/python3.6/dist-packages/sklearn/neural_network/multilayer_perceptron.py:566: ConvergenceWarning: Stochastic Optimizer: Maximum iterations (120) reached and the optimization hasn't converged yet.\n",
            "  % self.max_iter, ConvergenceWarning)\n",
            "/usr/local/lib/python3.6/dist-packages/sklearn/neural_network/multilayer_perceptron.py:566: ConvergenceWarning: Stochastic Optimizer: Maximum iterations (120) reached and the optimization hasn't converged yet.\n",
            "  % self.max_iter, ConvergenceWarning)\n",
            "/usr/local/lib/python3.6/dist-packages/sklearn/neural_network/multilayer_perceptron.py:566: ConvergenceWarning: Stochastic Optimizer: Maximum iterations (120) reached and the optimization hasn't converged yet.\n",
            "  % self.max_iter, ConvergenceWarning)\n",
            "/usr/local/lib/python3.6/dist-packages/sklearn/neural_network/multilayer_perceptron.py:566: ConvergenceWarning: Stochastic Optimizer: Maximum iterations (120) reached and the optimization hasn't converged yet.\n",
            "  % self.max_iter, ConvergenceWarning)\n",
            "/usr/local/lib/python3.6/dist-packages/sklearn/neural_network/multilayer_perceptron.py:566: ConvergenceWarning: Stochastic Optimizer: Maximum iterations (120) reached and the optimization hasn't converged yet.\n",
            "  % self.max_iter, ConvergenceWarning)\n",
            "/usr/local/lib/python3.6/dist-packages/sklearn/neural_network/multilayer_perceptron.py:566: ConvergenceWarning: Stochastic Optimizer: Maximum iterations (120) reached and the optimization hasn't converged yet.\n",
            "  % self.max_iter, ConvergenceWarning)\n",
            "/usr/local/lib/python3.6/dist-packages/sklearn/neural_network/multilayer_perceptron.py:566: ConvergenceWarning: Stochastic Optimizer: Maximum iterations (120) reached and the optimization hasn't converged yet.\n",
            "  % self.max_iter, ConvergenceWarning)\n",
            "/usr/local/lib/python3.6/dist-packages/sklearn/neural_network/multilayer_perceptron.py:566: ConvergenceWarning: Stochastic Optimizer: Maximum iterations (120) reached and the optimization hasn't converged yet.\n",
            "  % self.max_iter, ConvergenceWarning)\n",
            "/usr/local/lib/python3.6/dist-packages/sklearn/neural_network/multilayer_perceptron.py:566: ConvergenceWarning: Stochastic Optimizer: Maximum iterations (120) reached and the optimization hasn't converged yet.\n",
            "  % self.max_iter, ConvergenceWarning)\n",
            "/usr/local/lib/python3.6/dist-packages/sklearn/neural_network/multilayer_perceptron.py:566: ConvergenceWarning: Stochastic Optimizer: Maximum iterations (120) reached and the optimization hasn't converged yet.\n",
            "  % self.max_iter, ConvergenceWarning)\n",
            "/usr/local/lib/python3.6/dist-packages/sklearn/neural_network/multilayer_perceptron.py:566: ConvergenceWarning: Stochastic Optimizer: Maximum iterations (120) reached and the optimization hasn't converged yet.\n",
            "  % self.max_iter, ConvergenceWarning)\n",
            "/usr/local/lib/python3.6/dist-packages/sklearn/neural_network/multilayer_perceptron.py:566: ConvergenceWarning: Stochastic Optimizer: Maximum iterations (120) reached and the optimization hasn't converged yet.\n",
            "  % self.max_iter, ConvergenceWarning)\n",
            "/usr/local/lib/python3.6/dist-packages/sklearn/neural_network/multilayer_perceptron.py:566: ConvergenceWarning: Stochastic Optimizer: Maximum iterations (120) reached and the optimization hasn't converged yet.\n",
            "  % self.max_iter, ConvergenceWarning)\n",
            "/usr/local/lib/python3.6/dist-packages/sklearn/neural_network/multilayer_perceptron.py:566: ConvergenceWarning: Stochastic Optimizer: Maximum iterations (120) reached and the optimization hasn't converged yet.\n",
            "  % self.max_iter, ConvergenceWarning)\n",
            "/usr/local/lib/python3.6/dist-packages/sklearn/neural_network/multilayer_perceptron.py:566: ConvergenceWarning: Stochastic Optimizer: Maximum iterations (120) reached and the optimization hasn't converged yet.\n",
            "  % self.max_iter, ConvergenceWarning)\n",
            "/usr/local/lib/python3.6/dist-packages/sklearn/neural_network/multilayer_perceptron.py:566: ConvergenceWarning: Stochastic Optimizer: Maximum iterations (120) reached and the optimization hasn't converged yet.\n",
            "  % self.max_iter, ConvergenceWarning)\n",
            "/usr/local/lib/python3.6/dist-packages/sklearn/neural_network/multilayer_perceptron.py:566: ConvergenceWarning: Stochastic Optimizer: Maximum iterations (120) reached and the optimization hasn't converged yet.\n",
            "  % self.max_iter, ConvergenceWarning)\n",
            "/usr/local/lib/python3.6/dist-packages/sklearn/neural_network/multilayer_perceptron.py:566: ConvergenceWarning: Stochastic Optimizer: Maximum iterations (120) reached and the optimization hasn't converged yet.\n",
            "  % self.max_iter, ConvergenceWarning)\n",
            "/usr/local/lib/python3.6/dist-packages/sklearn/neural_network/multilayer_perceptron.py:566: ConvergenceWarning: Stochastic Optimizer: Maximum iterations (120) reached and the optimization hasn't converged yet.\n",
            "  % self.max_iter, ConvergenceWarning)\n",
            "/usr/local/lib/python3.6/dist-packages/sklearn/neural_network/multilayer_perceptron.py:566: ConvergenceWarning: Stochastic Optimizer: Maximum iterations (120) reached and the optimization hasn't converged yet.\n",
            "  % self.max_iter, ConvergenceWarning)\n",
            "/usr/local/lib/python3.6/dist-packages/sklearn/neural_network/multilayer_perceptron.py:566: ConvergenceWarning: Stochastic Optimizer: Maximum iterations (120) reached and the optimization hasn't converged yet.\n",
            "  % self.max_iter, ConvergenceWarning)\n"
          ],
          "name": "stderr"
        },
        {
          "output_type": "stream",
          "text": [
            "BEST SCORE: \n",
            "0.795\n",
            "STANDARD DEVIATIONS\n",
            "[0.02505549 0.02466441 0.02388485 0.02312406 0.02420256 0.01860593\n",
            " 0.0192119  0.02468552 0.01838062 0.02060711 0.02055649 0.02032718\n",
            " 0.02405867 0.02362173 0.02648375 0.02051422]\n",
            "STANDARD DEVIATION FOR BEST SCORE:\n",
            "0.019211903138997517\n"
          ],
          "name": "stdout"
        },
        {
          "output_type": "stream",
          "text": [
            "/usr/local/lib/python3.6/dist-packages/sklearn/neural_network/multilayer_perceptron.py:566: ConvergenceWarning: Stochastic Optimizer: Maximum iterations (120) reached and the optimization hasn't converged yet.\n",
            "  % self.max_iter, ConvergenceWarning)\n"
          ],
          "name": "stderr"
        },
        {
          "output_type": "error",
          "ename": "NameError",
          "evalue": "ignored",
          "traceback": [
            "\u001b[0;31m---------------------------------------------------------------------------\u001b[0m",
            "\u001b[0;31mNameError\u001b[0m                                 Traceback (most recent call last)",
            "\u001b[0;32m<ipython-input-4-41d538dcb36e>\u001b[0m in \u001b[0;36m<module>\u001b[0;34m()\u001b[0m\n\u001b[1;32m     20\u001b[0m \u001b[0;34m\u001b[0m\u001b[0m\n\u001b[1;32m     21\u001b[0m \u001b[0mpivot_mlp\u001b[0m \u001b[0;34m=\u001b[0m \u001b[0mpd\u001b[0m\u001b[0;34m.\u001b[0m\u001b[0mpivot_table\u001b[0m\u001b[0;34m(\u001b[0m\u001b[0mpd\u001b[0m\u001b[0;34m.\u001b[0m\u001b[0mDataFrame\u001b[0m\u001b[0;34m(\u001b[0m\u001b[0mclf_mlp\u001b[0m\u001b[0;34m.\u001b[0m\u001b[0mcv_results_\u001b[0m\u001b[0;34m)\u001b[0m\u001b[0;34m,\u001b[0m \u001b[0mvalues\u001b[0m\u001b[0;34m=\u001b[0m\u001b[0;34m'mean_test_score'\u001b[0m\u001b[0;34m,\u001b[0m \u001b[0mindex\u001b[0m\u001b[0;34m=\u001b[0m\u001b[0;34m'param_hidden_layer_sizes'\u001b[0m\u001b[0;34m,\u001b[0m \u001b[0mcolumns\u001b[0m\u001b[0;34m=\u001b[0m\u001b[0;34m'param_activation'\u001b[0m\u001b[0;34m)\u001b[0m\u001b[0;34m\u001b[0m\u001b[0;34m\u001b[0m\u001b[0m\n\u001b[0;32m---> 22\u001b[0;31m \u001b[0max_mlp\u001b[0m \u001b[0;34m=\u001b[0m \u001b[0msns\u001b[0m\u001b[0;34m.\u001b[0m\u001b[0mheatmap\u001b[0m\u001b[0;34m(\u001b[0m\u001b[0mpivot\u001b[0m\u001b[0;34m)\u001b[0m\u001b[0;34m\u001b[0m\u001b[0;34m\u001b[0m\u001b[0m\n\u001b[0m",
            "\u001b[0;31mNameError\u001b[0m: name 'pivot' is not defined"
          ]
        }
      ]
    },
    {
      "cell_type": "code",
      "metadata": {
        "id": "zeBRbyWP2mtL",
        "colab_type": "code",
        "outputId": "1680bd2d-e264-4829-dccf-131f6d583d74",
        "colab": {
          "base_uri": "https://localhost:8080/",
          "height": 284
        }
      },
      "source": [
        "ax_mlp = sns.heatmap(pivot_mlp)"
      ],
      "execution_count": 0,
      "outputs": [
        {
          "output_type": "display_data",
          "data": {
            "image/png": "[encoded data removed]",
            "text/plain": [
              "<Figure size 432x288 with 2 Axes>"
            ]
          },
          "metadata": {
            "tags": []
          }
        }
      ]
    },
    {
      "cell_type": "markdown",
      "metadata": {
        "id": "A_t9ngBYBw6U",
        "colab_type": "text"
      },
      "source": [
        "### 1.3 K Nearest Neighbors with Bag-Of-Words"
      ]
    },
    {
      "cell_type": "code",
      "metadata": {
        "id": "8WKmLuSYCadZ",
        "colab_type": "code",
        "outputId": "869ad77b-3a8c-4065-9ed6-71611058846f",
        "colab": {
          "base_uri": "https://localhost:8080/",
          "height": 454
        }
      },
      "source": [
        "from sklearn.neighbors import KNeighborsClassifier\n",
        "\n",
        "hyperparams = {\n",
        "    'n_neighbors' : [1,3,5,7,9,11,13,17,19,21,23,25,50,100],\n",
        "    'weights' : ['uniform', 'distance']\n",
        "    }\n",
        "\n",
        "clf_knn = GridSearchCV(KNeighborsClassifier(), hyperparams, cv=5, verbose=0)\n",
        "clf_knn.fit(x_train, y_train_df.values.ravel()) \n",
        "print(\"BEST SCORE: \")\n",
        "print(clf_knn.best_score_)\n",
        "print(\"STANDARD DEVIATIONS\")\n",
        "print(clf_knn.cv_results_['std_test_score'])\n",
        "print(\"STANDARD DEVIATION FOR BEST SCORE:\")\n",
        "print(clf_knn.cv_results_['std_test_score'][clf_knn.best_index_])\n",
        "\n",
        "pivot_knn = pd.pivot_table(pd.DataFrame(clf_knn.cv_results_), values='mean_test_score', index='param_n_neighbors', columns='param_weights',)\n",
        "ax_knn = sns.heatmap(pivot_knn)\n",
        "\n",
        "from google.colab import files\n",
        "yproba1_test = clf_knn.predict_proba(x_test)[:, 1]\n",
        "np.savetxt('yproba1_test.txt', yproba1_test)\n",
        "files.download('yproba1_test.txt')\n"
      ],
      "execution_count": 0,
      "outputs": [
        {
          "output_type": "stream",
          "text": [
            "BEST SCORE: \n",
            "0.7629166666666667\n",
            "STANDARD DEVIATIONS\n",
            "[0.01144128 0.01144128 0.07474958 0.07526112 0.02698379 0.02757565\n",
            " 0.00805795 0.00870026 0.00618017 0.00552771 0.01333333 0.0124024\n",
            " 0.01502313 0.01427653 0.01803738 0.01743042 0.0164781  0.0152525\n",
            " 0.02060711 0.01983438 0.02186607 0.02008662 0.02207154 0.02079162\n",
            " 0.03080517 0.02225952 0.0209165  0.01902119]\n",
            "STANDARD DEVIATION FOR BEST SCORE:\n",
            "0.02008661798865659\n"
          ],
          "name": "stdout"
        },
        {
          "output_type": "display_data",
          "data": {
            "image/png": "[encoded data removed]",
            "text/plain": [
              "<Figure size 432x288 with 2 Axes>"
            ]
          },
          "metadata": {
            "tags": []
          }
        }
      ]
    },
    {
      "cell_type": "markdown",
      "metadata": {
        "id": "XkbGbQ98JxHr",
        "colab_type": "text"
      },
      "source": [
        "### 1.5 - Summary of Results\n",
        "\n",
        "The best performing classifier has been the Logistic Regression classifier, to my surprise. I initially thought that it would be very unlikely that the Logistic Regression model would give me the best results, as it seemed very straightforward -- that seemed to work in its favor, however. More complicated models such as the multilayer perceptron classifier performed worse, and the K-Nearest Neighbor model also performed the worst of them all. I believe a large part of this success has to do with the feature tuning performed -- by so rigorously trying to normalize the input data into feature vectors using TF-IDF, it seems to me that the Logistic Regression classifier worked the best as it usually performs the best when attributes unrelated to the output variable, as well as closely related attributes are removed from the input set. This was most perceptible within the steps of removing stop words (unrelated attributes to the feature set), and the TF-IDF vectorization (penalizing closely related attributes). In combination with the regularization performed on the model, it seems that normalizing the data did make the output classes rather separable.\n",
        "\n",
        "Using a KNN model may have not been as suited for this task as the number of output classes was limited to 2. Possible reasons for why the KNN model and MLP model may have not worked as best, or in conjunction with my original hypothesis, may also be as a consequence of underfitting, and a lack of greater parameter tuning (which may have resulted in better performance.)\n",
        "\n",
        "The logistic regression model did best on predicting positive values with data sourced from Amazon, with a true positive rate of .9675, compared to .9475 and .935 for Yelp and IMDb, respectively. The model predicted true negatives est fro Yelp reviews, with a true negative rate of 0.98, compared to .9775 and .9725 for Amazon and IMDb, respectively. The model also had a higher false positive rate for Yelp reviews, at a false positive rate of 0.0525, compared to 0.0325 and 0.065 for Amazon and IMDb reviews. Interestingly, it also had the lowest true negative rates for Yelp reviews, at 0.02, compared to 0.0225 and 0.275 for Amazon and IMDb, respectively. Overall, in terms of total accuracy, the model perofrmed best on Amazon reviews, at an accuracy of 0.9725, compared to 0.96375 and 0.95375 for Yelp and IMDb, respectively. Possible reasons for this may be due to the number of sentimental (positive/negative) words within the feature sets for each type of review -- Amazon customers may have better use of language in line with how the model calculates an output class for sentiment, but conversely, my model may also overfit for Amazon reviews.\n",
        "\n",
        "### 1.6 Applying Best Classifier to Leaderboard\n",
        "\n",
        "Using the test set on the GradeScope leaderboard, the logistic regression model gave an error rate of 0.16167 and an AUROC of 0.9061, putting me 11th place on the leaderboard at the time of writing (out of 64). This matches up with what the training set performance eluded to, given that both the training set and the test set had the best performance compared to the other classfiers. This may suggest that the testing data may be similar in terms of tf-idf values with the training data, and the Logistic Regression model may have overfit on the training data, leading to an increased performance on the testing data (which is similar, in this case). It could also mean that the other models overfit on training data, which in this scenario, is not as similar in comparison to the testing data. "
      ]
    },
    {
      "cell_type": "code",
      "metadata": {
        "id": "fZVw5B7gNGL9",
        "colab_type": "code",
        "outputId": "6d5de2bd-5abe-4069-e468-d403f1154bb4",
        "colab": {
          "base_uri": "https://localhost:8080/",
          "height": 231
        }
      },
      "source": [
        "tr_web_list = x_train_df['website_name'].values.tolist()\n",
        "rst = clf.predict(x_train)\n",
        "\n",
        "amazon_p = 0\n",
        "yelp_p = 0\n",
        "imdb_p = 0\n",
        "amazon_n = 0\n",
        "yelp_n = 0\n",
        "imdb_n = 0\n",
        "\n",
        "amazon_tp = 0\n",
        "yelp_tp = 0\n",
        "imdb_tp = 0\n",
        "amazon_tn = 0\n",
        "yelp_tn = 0\n",
        "imdb_tn = 0\n",
        "\n",
        "amazon_fp = 0\n",
        "yelp_fp = 0\n",
        "imdb_fp = 0\n",
        "amazon_fn = 0\n",
        "yelp_fn = 0\n",
        "imdb_fn = 0\n",
        "\n",
        "amazon_avg_rev = 0\n",
        "yelp_avg_rev = 0\n",
        "imdb_avg_rev = 0\n",
        "\n",
        "for i in range(0,2400):\n",
        "  if tr_web_list[i] == \"amazon\":\n",
        "    amazon_avg_rev+=x_train[i].shape[0]\n",
        "  elif tr_web_list[i] == \"yelp\":\n",
        "    yelp_avg_rev+=x_train[i].shape[0]\n",
        "  elif tr_web_list[i] == \"imdb\":\n",
        "    imdb_avg_rev+=x_train[i].shape[0]\n",
        "\n",
        "amazon_avg_rev = amazon_avg_rev/2400\n",
        "yelp_avg_rev = yelp_avg_rev/2400\n",
        "imdb_avg_rev = imdb_avg_rev/2400\n",
        "\n",
        "for i in range(0,2400):\n",
        "  if y_train_df.values[i] == 1 and tr_web_list[i] == \"amazon\":\n",
        "    amazon_p+=1\n",
        "  elif y_train_df.values[i] == 1 and tr_web_list[i] == \"yelp\":\n",
        "    yelp_p+=1\n",
        "  elif y_train_df.values[i] == 1 and tr_web_list[i] == \"imdb\":\n",
        "    imdb_p+=1\n",
        "  elif y_train_df.values[i] == 0 and tr_web_list[i] == \"amazon\":\n",
        "    amazon_n+=1\n",
        "  elif y_train_df.values[i] == 0 and tr_web_list[i] == \"yelp\":\n",
        "    yelp_n+=1\n",
        "  elif y_train_df.values[i] == 0 and tr_web_list[i] == \"imdb\":\n",
        "    imdb_n+=1\n",
        "\n",
        "for i in range(0,2400):\n",
        "  if rst[i] == 1 and y_train_df.values[i] == 1 and tr_web_list[i] == \"amazon\":\n",
        "    amazon_tp+=1\n",
        "  elif rst[i] == 1 and y_train_df.values[i] == 1 and tr_web_list[i] == \"yelp\":\n",
        "    yelp_tp+=1\n",
        "  elif rst[i] == 1 and y_train_df.values[i] == 1 and tr_web_list[i] == \"imdb\":\n",
        "    imdb_tp+=1\n",
        "  elif rst[i] == 0 and y_train_df.values[i] == 0 and tr_web_list[i] == \"amazon\":\n",
        "    amazon_tn+=1\n",
        "  elif rst[i] == 0 and y_train_df.values[i] == 0 and tr_web_list[i] == \"yelp\":\n",
        "    yelp_tn+=1\n",
        "  elif rst[i] == 0 and y_train_df.values[i] == 0 and tr_web_list[i] == \"imdb\":\n",
        "    imdb_tn+=1\n",
        "  elif rst[i] == 1 and y_train_df.values[i] == 0 and tr_web_list[i] == \"amazon\":\n",
        "    amazon_fn+=1\n",
        "  elif rst[i] == 1 and y_train_df.values[i] == 0 and tr_web_list[i] == \"yelp\":\n",
        "    yelp_fn+=1\n",
        "  elif rst[i] == 1 and y_train_df.values[i] == 0 and tr_web_list[i] == \"imdb\":\n",
        "    imdb_fn+=1\n",
        "  elif rst[i] == 0 and y_train_df.values[i] == 1 and tr_web_list[i] == \"amazon\":\n",
        "    amazon_fp+=1\n",
        "  elif rst[i] == 0 and y_train_df.values[i] == 1 and tr_web_list[i] == \"yelp\":\n",
        "    yelp_fp+=1\n",
        "  elif rst[i] == 0 and y_train_df.values[i] == 1 and tr_web_list[i] == \"imdb\":\n",
        "    imdb_fp+=1\n",
        "\n",
        "print(\"OVERALL ACCURACY\")\n",
        "print(\".81875\")\n",
        "print(\"AMAZON ACCURACY\")\n",
        "print(str((amazon_tp+amazon_tn)/(amazon_n+amazon_p)))\n",
        "print(\"YELP ACCURACY\")\n",
        "print(str((yelp_tp+yelp_tn)/(yelp_n+yelp_p)))\n",
        "print(\"IMDB ACCURACY\")\n",
        "print(str((imdb_tp+imdb_tn)/(imdb_n+imdb_p)))\n",
        "print(\"AMAZON TRUE POSITIVE\")\n",
        "print(str((amazon_tp)/(amazon_p)))\n",
        "print(\"YELP TRUE POSITIVE\")\n",
        "print(str((yelp_tp)/(yelp_p)))\n",
        "print(\"IMDB TRUE POSITIVE\")\n",
        "print(str((imdb_tp)/(imdb_p)))\n",
        "print(\"AMAZON TRUE NEGATIVE\")\n",
        "print(str((amazon_tn)/(amazon_n)))\n",
        "print(\"YELP TRUE NEGATIVE\")\n",
        "print(str((yelp_tn)/(yelp_n)))\n",
        "print(\"IMDB TRUE NEGATIVE\")\n",
        "print(str((imdb_tn)/(imdb_n)))\n",
        "print(\"AMAZON FALSE POSITIVE\")\n",
        "print(str((amazon_fp)/(amazon_p)))\n",
        "print(\"YELP FALSE POSITIVE\")\n",
        "print(str((yelp_fp)/(yelp_p)))\n",
        "print(\"IMDB FALSE POSITIVE\")\n",
        "print(str((imdb_fp)/(imdb_p)))\n",
        "print(\"AMAZON FALSE NEGATIVE\")\n",
        "print(str((amazon_fn)/(amazon_n)))\n",
        "print(\"YELP FALSE NEGATIVE\")\n",
        "print(str((yelp_fn)/(yelp_n)))\n",
        "print(\"IMDB FALSE NEGATIVE\")\n",
        "print(str((imdb_fn)/(imdb_n)))"
      ],
      "execution_count": 0,
      "outputs": [
        {
          "output_type": "error",
          "ename": "NameError",
          "evalue": "ignored",
          "traceback": [
            "\u001b[0;31m---------------------------------------------------------------------------\u001b[0m",
            "\u001b[0;31mNameError\u001b[0m                                 Traceback (most recent call last)",
            "\u001b[0;32m<ipython-input-11-747a201c69f0>\u001b[0m in \u001b[0;36m<module>\u001b[0;34m()\u001b[0m\n\u001b[1;32m      1\u001b[0m \u001b[0mtr_web_list\u001b[0m \u001b[0;34m=\u001b[0m \u001b[0mx_train_df\u001b[0m\u001b[0;34m[\u001b[0m\u001b[0;34m'website_name'\u001b[0m\u001b[0;34m]\u001b[0m\u001b[0;34m.\u001b[0m\u001b[0mvalues\u001b[0m\u001b[0;34m.\u001b[0m\u001b[0mtolist\u001b[0m\u001b[0;34m(\u001b[0m\u001b[0;34m)\u001b[0m\u001b[0;34m\u001b[0m\u001b[0;34m\u001b[0m\u001b[0m\n\u001b[0;32m----> 2\u001b[0;31m \u001b[0mrst\u001b[0m \u001b[0;34m=\u001b[0m \u001b[0mclf\u001b[0m\u001b[0;34m.\u001b[0m\u001b[0mpredict\u001b[0m\u001b[0;34m(\u001b[0m\u001b[0mx_train\u001b[0m\u001b[0;34m)\u001b[0m\u001b[0;34m\u001b[0m\u001b[0;34m\u001b[0m\u001b[0m\n\u001b[0m\u001b[1;32m      3\u001b[0m \u001b[0;34m\u001b[0m\u001b[0m\n\u001b[1;32m      4\u001b[0m \u001b[0mamazon_p\u001b[0m \u001b[0;34m=\u001b[0m \u001b[0;36m0\u001b[0m\u001b[0;34m\u001b[0m\u001b[0;34m\u001b[0m\u001b[0m\n\u001b[1;32m      5\u001b[0m \u001b[0myelp_p\u001b[0m \u001b[0;34m=\u001b[0m \u001b[0;36m0\u001b[0m\u001b[0;34m\u001b[0m\u001b[0;34m\u001b[0m\u001b[0m\n",
            "\u001b[0;31mNameError\u001b[0m: name 'clf' is not defined"
          ]
        }
      ]
    },
    {
      "cell_type": "markdown",
      "metadata": {
        "id": "ZEutAf0HWypB",
        "colab_type": "text"
      },
      "source": [
        "### 2.1 Pipeline for Classifying Review Sentiment with Word Embeddings\n",
        "\n",
        "First, I preprocessed the data in the same way mentioned, in detail, in section 1.1.\n",
        "\n",
        "Since GloVE provides a 50 dimension feature vector for each word, I figured that a good way to vectorize reviews would be to average all the words within the reviews. I thought it best to use the average of all the feature vectors in order to standardize the input data based on varying input feature length. By simply summing and concatenating feature vectors, discrepancies in length are not handled properly. After averaging all the values, I felt that it was relevant to weigh the feature vectors by multiplying the feature vectors by the TF-IDF weight, calculated using sklearn's TfidfVectorizer(). This time, each feature vector has 50 dimensions instead of 3414, due to the limit in dimensionality of the word embedding dataset being used.\n"
      ]
    },
    {
      "cell_type": "code",
      "metadata": {
        "id": "0YUyv8K2XqkV",
        "colab_type": "code",
        "outputId": "c8c3df1c-43c2-4124-c375-e73310a7b7d8",
        "colab": {
          "base_uri": "https://localhost:8080/",
          "height": 68
        }
      },
      "source": [
        "import pandas as pd\n",
        "import numpy as np\n",
        "\n",
        "from collections import OrderedDict\n",
        "\n",
        "word_embeddings = pd.read_csv('glove.6B.50d.txt',\n",
        "                               header=None, sep=' ', index_col=0,\n",
        "                               nrows=100000, encoding='utf-8', quoting=3)\n",
        "# Build a dict that will map from string word to 50-dim vector\n",
        "word_list = word_embeddings.index.values.tolist()\n",
        "word2vec = OrderedDict(zip(word_list, word_embeddings.values))\n",
        "\n",
        "def vectorizer(sentence):\n",
        "  sent_vec = np.zeros(50)\n",
        "  numw = 0\n",
        "  for w in sentence:\n",
        "    try: \n",
        "      vc = word2vec[w]\n",
        "      vc = [i * tfidf[w] for i in vc]\n",
        "      vc=vc[0:50]\n",
        "      sent_vec = np.add(sent_vec, vc)\n",
        "      numw+=1\n",
        "    except:\n",
        "      pass\n",
        "  return sent_vec / np.sqrt(sent_vec.dot(sent_vec))\n",
        "\n",
        "X_train_pre = []\n",
        "for sentence in preprocess(tr_text_list):\n",
        "  X_train_pre.append(vectorizer(sentence))\n",
        "\n",
        "X_train = []\n",
        "for sentence in X_train_pre:\n",
        "  arr = []\n",
        "  for word in sentence:\n",
        "    if np.isnan(word):\n",
        "      arr.append(0)\n",
        "    else:\n",
        "      arr.append(word)\n",
        "  X_train.append(arr)\n",
        "\n",
        "x_train = np.array(X_train)\n",
        "\n",
        "X_test_pre = []\n",
        "te_text_list = x_test_df['text'].values.tolist()\n",
        "for sentence in preprocess(te_text_list):\n",
        "  X_test_pre.append(vectorizer(sentence))\n",
        "\n",
        "X_test = []\n",
        "for sentence in X_test_pre:\n",
        "  arr = []\n",
        "  for word in sentence:\n",
        "    if np.isnan(word):\n",
        "      arr.append(0)\n",
        "    else:\n",
        "      arr.append(word)\n",
        "  X_test.append(arr)\n",
        "\n",
        "x_test = np.array(X_test)\n",
        "\n",
        "print(x_test.shape)\n",
        "print(x_train.shape)"
      ],
      "execution_count": 0,
      "outputs": [
        {
          "output_type": "stream",
          "text": [
            "/usr/local/lib/python3.6/dist-packages/ipykernel_launcher.py:25: RuntimeWarning: invalid value encountered in true_divide\n"
          ],
          "name": "stderr"
        },
        {
          "output_type": "stream",
          "text": [
            "(600, 50)\n",
            "(2400, 50)\n"
          ],
          "name": "stdout"
        }
      ]
    },
    {
      "cell_type": "markdown",
      "metadata": {
        "id": "NVQxnJFtArz9",
        "colab_type": "text"
      },
      "source": [
        ""
      ]
    },
    {
      "cell_type": "markdown",
      "metadata": {
        "id": "1D2UGJELmoB6",
        "colab_type": "text"
      },
      "source": [
        "### 2.2 Logistic Regression and Word Embeddings\n",
        "\n",
        "Error Rate: 0.295\t AUROC: 0.77871\n",
        "62/64\n"
      ]
    },
    {
      "cell_type": "code",
      "metadata": {
        "id": "pSN9qBCLmxmv",
        "colab_type": "code",
        "outputId": "025001db-d5e8-43c7-d5f7-e32799cbf80c",
        "colab": {
          "base_uri": "https://localhost:8080/",
          "height": 437
        }
      },
      "source": [
        "from sklearn.linear_model import LogisticRegression \n",
        "from sklearn.model_selection import GridSearchCV\n",
        "import seaborn as sns\n",
        "\n",
        "logreg = LogisticRegression(solver='liblinear')\n",
        "# Grid Search for Hyperparameters\n",
        "penalty = ['l1', 'l2']\n",
        "C = np.logspace(0, 6, 12)\n",
        "hyperparams = dict(C=C, penalty=penalty)\n",
        "clf = GridSearchCV(logreg, hyperparams, cv=5, verbose=0)\n",
        "clf.fit(x_train, y_train_df.values.ravel())\n",
        "print(\"BEST SCORE: \")\n",
        "print(clf.best_score_)\n",
        "print(\"STANDARD DEVIATIONS\")\n",
        "print(clf.cv_results_['std_test_score'])\n",
        "print(\"STANDARD DEVIATION FOR BEST SCORE:\")\n",
        "print(clf.cv_results_['std_test_score'][clf.best_index_])\n",
        "\n",
        "pivot = pd.pivot_table(pd.DataFrame(clf.cv_results_), values='mean_test_score', index='param_C', columns='param_penalty')\n",
        "ax = sns.heatmap(pivot)"
      ],
      "execution_count": 0,
      "outputs": [
        {
          "output_type": "stream",
          "text": [
            "BEST SCORE: \n",
            "0.71625\n",
            "STANDARD DEVIATIONS\n",
            "[0.02214222 0.01942757 0.02519369 0.02138438 0.02354812 0.02624008\n",
            " 0.02220485 0.02322146 0.02433134 0.02169069 0.02348167 0.02402978\n",
            " 0.02325881 0.02283698 0.02325881 0.02322146 0.02325881 0.02322146\n",
            " 0.02325881 0.02322146 0.02325881 0.02322146 0.02325881 0.02322146]\n",
            "STANDARD DEVIATION FOR BEST SCORE:\n",
            "0.01942757204479128\n"
          ],
          "name": "stdout"
        },
        {
          "output_type": "display_data",
          "data": {
            "image/png": "[encoded data removed]",
            "text/plain": [
              "<Figure size 432x288 with 2 Axes>"
            ]
          },
          "metadata": {
            "tags": []
          }
        }
      ]
    },
    {
      "cell_type": "code",
      "metadata": {
        "id": "5gOgRVajIwDE",
        "colab_type": "code",
        "colab": {}
      },
      "source": [
        "from google.colab import files\n",
        "yproba1_test = clf.predict_proba(x_test)[:, 1]\n",
        "np.savetxt('yproba1_test.txt', yproba1_test)\n",
        "files.download('yproba1_test.txt')"
      ],
      "execution_count": 0,
      "outputs": []
    },
    {
      "cell_type": "markdown",
      "metadata": {
        "id": "NQCR59sWEE3M",
        "colab_type": "text"
      },
      "source": [
        "### 2.3 Multilayer Perceptrons (MLP) and Word Embeddings\n",
        "\n",
        "Error Rate: 0.27667\tAUROC: 0.79791\n",
        "62/64\n",
        "\n",
        "\n"
      ]
    },
    {
      "cell_type": "code",
      "metadata": {
        "id": "5jj9NyPLH2eq",
        "colab_type": "code",
        "outputId": "b374c05e-ccf0-4545-a149-027f67aa5283",
        "colab": {
          "base_uri": "https://localhost:8080/",
          "height": 1000
        }
      },
      "source": [
        "from sklearn.neural_network import MLPClassifier\n",
        "from sklearn.model_selection import GridSearchCV\n",
        "import seaborn as sns\n",
        "\n",
        "mlp = MLPClassifier(max_iter=120)\n",
        "\n",
        "hyperparams = {\n",
        "    'hidden_layer_sizes': [(50,50,50), (50,100,50), (100,), (256,)],\n",
        "    'activation': ['identity','logistic', 'relu', 'tanh'],\n",
        "}\n",
        "\n",
        "clf_mlp = GridSearchCV(mlp, hyperparams, cv=5, verbose=0)\n",
        "clf_mlp.fit(x_train, y_train_df.values.ravel()) \n",
        "print(\"BEST SCORE: \")\n",
        "print(clf_mlp.best_score_)\n",
        "print(\"STANDARD DEVIATIONS\")\n",
        "print(clf_mlp.cv_results_['std_test_score'])\n",
        "print(\"STANDARD DEVIATION FOR BEST SCORE:\")\n",
        "print(clf_mlp.cv_results_['std_test_score'][clf_mlp.best_index_])\n",
        "\n",
        "pivot_mlp = pd.pivot_table(pd.DataFrame(clf_mlp.cv_results_), values='mean_test_score', index='param_hidden_layer_sizes', columns='param_activation')\n"
      ],
      "execution_count": 0,
      "outputs": [
        {
          "output_type": "stream",
          "text": [
            "/usr/local/lib/python3.6/dist-packages/sklearn/neural_network/multilayer_perceptron.py:566: ConvergenceWarning: Stochastic Optimizer: Maximum iterations (120) reached and the optimization hasn't converged yet.\n",
            "  % self.max_iter, ConvergenceWarning)\n",
            "/usr/local/lib/python3.6/dist-packages/sklearn/neural_network/multilayer_perceptron.py:566: ConvergenceWarning: Stochastic Optimizer: Maximum iterations (120) reached and the optimization hasn't converged yet.\n",
            "  % self.max_iter, ConvergenceWarning)\n",
            "/usr/local/lib/python3.6/dist-packages/sklearn/neural_network/multilayer_perceptron.py:566: ConvergenceWarning: Stochastic Optimizer: Maximum iterations (120) reached and the optimization hasn't converged yet.\n",
            "  % self.max_iter, ConvergenceWarning)\n",
            "/usr/local/lib/python3.6/dist-packages/sklearn/neural_network/multilayer_perceptron.py:566: ConvergenceWarning: Stochastic Optimizer: Maximum iterations (120) reached and the optimization hasn't converged yet.\n",
            "  % self.max_iter, ConvergenceWarning)\n",
            "/usr/local/lib/python3.6/dist-packages/sklearn/neural_network/multilayer_perceptron.py:566: ConvergenceWarning: Stochastic Optimizer: Maximum iterations (120) reached and the optimization hasn't converged yet.\n",
            "  % self.max_iter, ConvergenceWarning)\n",
            "/usr/local/lib/python3.6/dist-packages/sklearn/neural_network/multilayer_perceptron.py:566: ConvergenceWarning: Stochastic Optimizer: Maximum iterations (120) reached and the optimization hasn't converged yet.\n",
            "  % self.max_iter, ConvergenceWarning)\n",
            "/usr/local/lib/python3.6/dist-packages/sklearn/neural_network/multilayer_perceptron.py:566: ConvergenceWarning: Stochastic Optimizer: Maximum iterations (120) reached and the optimization hasn't converged yet.\n",
            "  % self.max_iter, ConvergenceWarning)\n",
            "/usr/local/lib/python3.6/dist-packages/sklearn/neural_network/multilayer_perceptron.py:566: ConvergenceWarning: Stochastic Optimizer: Maximum iterations (120) reached and the optimization hasn't converged yet.\n",
            "  % self.max_iter, ConvergenceWarning)\n",
            "/usr/local/lib/python3.6/dist-packages/sklearn/neural_network/multilayer_perceptron.py:566: ConvergenceWarning: Stochastic Optimizer: Maximum iterations (120) reached and the optimization hasn't converged yet.\n",
            "  % self.max_iter, ConvergenceWarning)\n",
            "/usr/local/lib/python3.6/dist-packages/sklearn/neural_network/multilayer_perceptron.py:566: ConvergenceWarning: Stochastic Optimizer: Maximum iterations (120) reached and the optimization hasn't converged yet.\n",
            "  % self.max_iter, ConvergenceWarning)\n",
            "/usr/local/lib/python3.6/dist-packages/sklearn/neural_network/multilayer_perceptron.py:566: ConvergenceWarning: Stochastic Optimizer: Maximum iterations (120) reached and the optimization hasn't converged yet.\n",
            "  % self.max_iter, ConvergenceWarning)\n",
            "/usr/local/lib/python3.6/dist-packages/sklearn/neural_network/multilayer_perceptron.py:566: ConvergenceWarning: Stochastic Optimizer: Maximum iterations (120) reached and the optimization hasn't converged yet.\n",
            "  % self.max_iter, ConvergenceWarning)\n",
            "/usr/local/lib/python3.6/dist-packages/sklearn/neural_network/multilayer_perceptron.py:566: ConvergenceWarning: Stochastic Optimizer: Maximum iterations (120) reached and the optimization hasn't converged yet.\n",
            "  % self.max_iter, ConvergenceWarning)\n",
            "/usr/local/lib/python3.6/dist-packages/sklearn/neural_network/multilayer_perceptron.py:566: ConvergenceWarning: Stochastic Optimizer: Maximum iterations (120) reached and the optimization hasn't converged yet.\n",
            "  % self.max_iter, ConvergenceWarning)\n",
            "/usr/local/lib/python3.6/dist-packages/sklearn/neural_network/multilayer_perceptron.py:566: ConvergenceWarning: Stochastic Optimizer: Maximum iterations (120) reached and the optimization hasn't converged yet.\n",
            "  % self.max_iter, ConvergenceWarning)\n",
            "/usr/local/lib/python3.6/dist-packages/sklearn/neural_network/multilayer_perceptron.py:566: ConvergenceWarning: Stochastic Optimizer: Maximum iterations (120) reached and the optimization hasn't converged yet.\n",
            "  % self.max_iter, ConvergenceWarning)\n",
            "/usr/local/lib/python3.6/dist-packages/sklearn/neural_network/multilayer_perceptron.py:566: ConvergenceWarning: Stochastic Optimizer: Maximum iterations (120) reached and the optimization hasn't converged yet.\n",
            "  % self.max_iter, ConvergenceWarning)\n",
            "/usr/local/lib/python3.6/dist-packages/sklearn/neural_network/multilayer_perceptron.py:566: ConvergenceWarning: Stochastic Optimizer: Maximum iterations (120) reached and the optimization hasn't converged yet.\n",
            "  % self.max_iter, ConvergenceWarning)\n",
            "/usr/local/lib/python3.6/dist-packages/sklearn/neural_network/multilayer_perceptron.py:566: ConvergenceWarning: Stochastic Optimizer: Maximum iterations (120) reached and the optimization hasn't converged yet.\n",
            "  % self.max_iter, ConvergenceWarning)\n",
            "/usr/local/lib/python3.6/dist-packages/sklearn/neural_network/multilayer_perceptron.py:566: ConvergenceWarning: Stochastic Optimizer: Maximum iterations (120) reached and the optimization hasn't converged yet.\n",
            "  % self.max_iter, ConvergenceWarning)\n",
            "/usr/local/lib/python3.6/dist-packages/sklearn/neural_network/multilayer_perceptron.py:566: ConvergenceWarning: Stochastic Optimizer: Maximum iterations (120) reached and the optimization hasn't converged yet.\n",
            "  % self.max_iter, ConvergenceWarning)\n",
            "/usr/local/lib/python3.6/dist-packages/sklearn/neural_network/multilayer_perceptron.py:566: ConvergenceWarning: Stochastic Optimizer: Maximum iterations (120) reached and the optimization hasn't converged yet.\n",
            "  % self.max_iter, ConvergenceWarning)\n",
            "/usr/local/lib/python3.6/dist-packages/sklearn/neural_network/multilayer_perceptron.py:566: ConvergenceWarning: Stochastic Optimizer: Maximum iterations (120) reached and the optimization hasn't converged yet.\n",
            "  % self.max_iter, ConvergenceWarning)\n",
            "/usr/local/lib/python3.6/dist-packages/sklearn/neural_network/multilayer_perceptron.py:566: ConvergenceWarning: Stochastic Optimizer: Maximum iterations (120) reached and the optimization hasn't converged yet.\n",
            "  % self.max_iter, ConvergenceWarning)\n",
            "/usr/local/lib/python3.6/dist-packages/sklearn/neural_network/multilayer_perceptron.py:566: ConvergenceWarning: Stochastic Optimizer: Maximum iterations (120) reached and the optimization hasn't converged yet.\n",
            "  % self.max_iter, ConvergenceWarning)\n",
            "/usr/local/lib/python3.6/dist-packages/sklearn/neural_network/multilayer_perceptron.py:566: ConvergenceWarning: Stochastic Optimizer: Maximum iterations (120) reached and the optimization hasn't converged yet.\n",
            "  % self.max_iter, ConvergenceWarning)\n",
            "/usr/local/lib/python3.6/dist-packages/sklearn/neural_network/multilayer_perceptron.py:566: ConvergenceWarning: Stochastic Optimizer: Maximum iterations (120) reached and the optimization hasn't converged yet.\n",
            "  % self.max_iter, ConvergenceWarning)\n",
            "/usr/local/lib/python3.6/dist-packages/sklearn/neural_network/multilayer_perceptron.py:566: ConvergenceWarning: Stochastic Optimizer: Maximum iterations (120) reached and the optimization hasn't converged yet.\n",
            "  % self.max_iter, ConvergenceWarning)\n",
            "/usr/local/lib/python3.6/dist-packages/sklearn/neural_network/multilayer_perceptron.py:566: ConvergenceWarning: Stochastic Optimizer: Maximum iterations (120) reached and the optimization hasn't converged yet.\n",
            "  % self.max_iter, ConvergenceWarning)\n",
            "/usr/local/lib/python3.6/dist-packages/sklearn/neural_network/multilayer_perceptron.py:566: ConvergenceWarning: Stochastic Optimizer: Maximum iterations (120) reached and the optimization hasn't converged yet.\n",
            "  % self.max_iter, ConvergenceWarning)\n",
            "/usr/local/lib/python3.6/dist-packages/sklearn/neural_network/multilayer_perceptron.py:566: ConvergenceWarning: Stochastic Optimizer: Maximum iterations (120) reached and the optimization hasn't converged yet.\n",
            "  % self.max_iter, ConvergenceWarning)\n",
            "/usr/local/lib/python3.6/dist-packages/sklearn/neural_network/multilayer_perceptron.py:566: ConvergenceWarning: Stochastic Optimizer: Maximum iterations (120) reached and the optimization hasn't converged yet.\n",
            "  % self.max_iter, ConvergenceWarning)\n",
            "/usr/local/lib/python3.6/dist-packages/sklearn/neural_network/multilayer_perceptron.py:566: ConvergenceWarning: Stochastic Optimizer: Maximum iterations (120) reached and the optimization hasn't converged yet.\n",
            "  % self.max_iter, ConvergenceWarning)\n",
            "/usr/local/lib/python3.6/dist-packages/sklearn/neural_network/multilayer_perceptron.py:566: ConvergenceWarning: Stochastic Optimizer: Maximum iterations (120) reached and the optimization hasn't converged yet.\n",
            "  % self.max_iter, ConvergenceWarning)\n",
            "/usr/local/lib/python3.6/dist-packages/sklearn/neural_network/multilayer_perceptron.py:566: ConvergenceWarning: Stochastic Optimizer: Maximum iterations (120) reached and the optimization hasn't converged yet.\n",
            "  % self.max_iter, ConvergenceWarning)\n",
            "/usr/local/lib/python3.6/dist-packages/sklearn/neural_network/multilayer_perceptron.py:566: ConvergenceWarning: Stochastic Optimizer: Maximum iterations (120) reached and the optimization hasn't converged yet.\n",
            "  % self.max_iter, ConvergenceWarning)\n",
            "/usr/local/lib/python3.6/dist-packages/sklearn/neural_network/multilayer_perceptron.py:566: ConvergenceWarning: Stochastic Optimizer: Maximum iterations (120) reached and the optimization hasn't converged yet.\n",
            "  % self.max_iter, ConvergenceWarning)\n",
            "/usr/local/lib/python3.6/dist-packages/sklearn/neural_network/multilayer_perceptron.py:566: ConvergenceWarning: Stochastic Optimizer: Maximum iterations (120) reached and the optimization hasn't converged yet.\n",
            "  % self.max_iter, ConvergenceWarning)\n",
            "/usr/local/lib/python3.6/dist-packages/sklearn/neural_network/multilayer_perceptron.py:566: ConvergenceWarning: Stochastic Optimizer: Maximum iterations (120) reached and the optimization hasn't converged yet.\n",
            "  % self.max_iter, ConvergenceWarning)\n",
            "/usr/local/lib/python3.6/dist-packages/sklearn/neural_network/multilayer_perceptron.py:566: ConvergenceWarning: Stochastic Optimizer: Maximum iterations (120) reached and the optimization hasn't converged yet.\n",
            "  % self.max_iter, ConvergenceWarning)\n",
            "/usr/local/lib/python3.6/dist-packages/sklearn/neural_network/multilayer_perceptron.py:566: ConvergenceWarning: Stochastic Optimizer: Maximum iterations (120) reached and the optimization hasn't converged yet.\n",
            "  % self.max_iter, ConvergenceWarning)\n",
            "/usr/local/lib/python3.6/dist-packages/sklearn/neural_network/multilayer_perceptron.py:566: ConvergenceWarning: Stochastic Optimizer: Maximum iterations (120) reached and the optimization hasn't converged yet.\n",
            "  % self.max_iter, ConvergenceWarning)\n",
            "/usr/local/lib/python3.6/dist-packages/sklearn/neural_network/multilayer_perceptron.py:566: ConvergenceWarning: Stochastic Optimizer: Maximum iterations (120) reached and the optimization hasn't converged yet.\n",
            "  % self.max_iter, ConvergenceWarning)\n"
          ],
          "name": "stderr"
        },
        {
          "output_type": "stream",
          "text": [
            "BEST SCORE: \n",
            "0.71375\n",
            "STANDARD DEVIATIONS\n",
            "[0.0295804  0.02498611 0.02344467 0.02729087 0.02166667 0.02417385\n",
            " 0.02391391 0.02       0.03105215 0.02445943 0.0353406  0.03721186\n",
            " 0.02332589 0.02402978 0.02318405 0.02422407]\n",
            "STANDARD DEVIATION FOR BEST SCORE:\n",
            "0.03721185593627686\n"
          ],
          "name": "stdout"
        },
        {
          "output_type": "stream",
          "text": [
            "/usr/local/lib/python3.6/dist-packages/sklearn/neural_network/multilayer_perceptron.py:566: ConvergenceWarning: Stochastic Optimizer: Maximum iterations (120) reached and the optimization hasn't converged yet.\n",
            "  % self.max_iter, ConvergenceWarning)\n"
          ],
          "name": "stderr"
        }
      ]
    },
    {
      "cell_type": "code",
      "metadata": {
        "id": "Hpa5vrE0Iqyw",
        "colab_type": "code",
        "outputId": "82dae58a-b7f0-451c-c55d-b483d36a2cbd",
        "colab": {
          "base_uri": "https://localhost:8080/",
          "height": 284
        }
      },
      "source": [
        "ax = sns.heatmap(pivot_mlp)\n",
        "from google.colab import files\n",
        "yproba1_test = clf_mlp.predict_proba(x_test)[:, 1]\n",
        "np.savetxt('yproba1_test.txt', yproba1_test)\n",
        "files.download('yproba1_test.txt')"
      ],
      "execution_count": 0,
      "outputs": [
        {
          "output_type": "display_data",
          "data": {
            "image/png": "[encoded data removed]",
            "text/plain": [
              "<Figure size 432x288 with 2 Axes>"
            ]
          },
          "metadata": {
            "tags": []
          }
        }
      ]
    },
    {
      "cell_type": "markdown",
      "metadata": {
        "id": "1SdxxbtNJ8Lr",
        "colab_type": "text"
      },
      "source": [
        "### 2.4 Support Vector Machines and Word Embedding\n",
        "\n",
        "\n",
        "> Indented block\n",
        "\n",
        "\n",
        "Error: 0.28333\tAuroc: 0.78988 64/66"
      ]
    },
    {
      "cell_type": "code",
      "metadata": {
        "id": "vZUJ5uc2KUST",
        "colab_type": "code",
        "outputId": "5fe5710a-2cdb-4da5-c31d-56469962931e",
        "colab": {
          "base_uri": "https://localhost:8080/",
          "height": 170
        }
      },
      "source": [
        "from sklearn.svm import SVC\n",
        "\n",
        "from sklearn.model_selection import GridSearchCV\n",
        "import seaborn as sns\n",
        "\n",
        "svc = SVC(probability=True)\n",
        "hyperparams = {\n",
        "    'C': [0.001, 0.01, 0.1, 1, 10],\n",
        "    'gamma' : [0.001, 0.01, 0.1, 1]\n",
        "}\n",
        "clf_svc = GridSearchCV(svc, hyperparams, cv=5, verbose=0)\n",
        "clf_svc.fit(x_train, y_train_df.values.ravel()) \n",
        "print(\"BEST SCORE: \")\n",
        "print(clf_svc.best_score_)\n",
        "print(\"STANDARD DEVIATIONS\")\n",
        "print(clf_svc.cv_results_['std_test_score'])\n",
        "print(\"STANDARD DEVIATION FOR BEST SCORE:\")\n",
        "print(clf_svc.cv_results_['std_test_score'][clf_svc.best_index_])\n",
        "\n",
        "pivot_mlp = pd.pivot_table(pd.DataFrame(clf_svc.cv_results_), values='mean_test_score', index='param_C', columns='param_gamma')\n"
      ],
      "execution_count": 0,
      "outputs": [
        {
          "output_type": "stream",
          "text": [
            "BEST SCORE: \n",
            "0.7158333333333333\n",
            "STANDARD DEVIATIONS\n",
            "[0.02666667 0.02811805 0.02968001 0.03013281 0.02666667 0.02811805\n",
            " 0.02968001 0.03013281 0.02666667 0.02811805 0.02968001 0.02827813\n",
            " 0.02666667 0.02811805 0.02428134 0.02276846 0.02666667 0.02365845\n",
            " 0.0225     0.02462919]\n",
            "STANDARD DEVIATION FOR BEST SCORE:\n",
            "0.02276846015385707\n"
          ],
          "name": "stdout"
        }
      ]
    },
    {
      "cell_type": "code",
      "metadata": {
        "id": "U8kljPQyPrJH",
        "colab_type": "code",
        "outputId": "6ce8c173-0d2d-4b07-f468-1a265da185bf",
        "colab": {
          "base_uri": "https://localhost:8080/",
          "height": 283
        }
      },
      "source": [
        "ax = sns.heatmap(pivot_mlp)\n",
        "from google.colab import files\n",
        "yproba1_test = clf_svc.predict_proba(x_test)[:, 1]\n",
        "np.savetxt('yproba1_test.txt', yproba1_test)\n",
        "files.download('yproba1_test.txt')"
      ],
      "execution_count": 0,
      "outputs": [
        {
          "output_type": "display_data",
          "data": {
            "image/png": "[encoded data removed]",
            "text/plain": [
              "<Figure size 432x288 with 2 Axes>"
            ]
          },
          "metadata": {
            "tags": []
          }
        }
      ]
    },
    {
      "cell_type": "code",
      "metadata": {
        "id": "EvJDepzFu6aA",
        "colab_type": "code",
        "outputId": "28d25e62-993c-4b57-fd42-9bfab6db8214",
        "colab": {
          "base_uri": "https://localhost:8080/",
          "height": 561
        }
      },
      "source": [
        "tr_web_list = x_train_df['website_name'].values.tolist()\n",
        "rst = clf.predict(x_train)\n",
        "\n",
        "amazon_p = 0\n",
        "yelp_p = 0\n",
        "imdb_p = 0\n",
        "amazon_n = 0\n",
        "yelp_n = 0\n",
        "imdb_n = 0\n",
        "\n",
        "amazon_tp = 0\n",
        "yelp_tp = 0\n",
        "imdb_tp = 0\n",
        "amazon_tn = 0\n",
        "yelp_tn = 0\n",
        "imdb_tn = 0\n",
        "\n",
        "amazon_fp = 0\n",
        "yelp_fp = 0\n",
        "imdb_fp = 0\n",
        "amazon_fn = 0\n",
        "yelp_fn = 0\n",
        "imdb_fn = 0\n",
        "\n",
        "amazon_avg_rev = 0\n",
        "yelp_avg_rev = 0\n",
        "imdb_avg_rev = 0\n",
        "\n",
        "for i in range(0,2400):\n",
        "  if tr_web_list[i] == \"amazon\":\n",
        "    amazon_avg_rev+=x_train[i].shape[0]\n",
        "  elif tr_web_list[i] == \"yelp\":\n",
        "    yelp_avg_rev+=x_train[i].shape[0]\n",
        "  elif tr_web_list[i] == \"imdb\":\n",
        "    imdb_avg_rev+=x_train[i].shape[0]\n",
        "\n",
        "amazon_avg_rev = amazon_avg_rev/2400\n",
        "yelp_avg_rev = yelp_avg_rev/2400\n",
        "imdb_avg_rev = imdb_avg_rev/2400\n",
        "\n",
        "for i in range(0,2400):\n",
        "  if y_train_df.values[i] == 1 and tr_web_list[i] == \"amazon\":\n",
        "    amazon_p+=1\n",
        "  elif y_train_df.values[i] == 1 and tr_web_list[i] == \"yelp\":\n",
        "    yelp_p+=1\n",
        "  elif y_train_df.values[i] == 1 and tr_web_list[i] == \"imdb\":\n",
        "    imdb_p+=1\n",
        "  elif y_train_df.values[i] == 0 and tr_web_list[i] == \"amazon\":\n",
        "    amazon_n+=1\n",
        "  elif y_train_df.values[i] == 0 and tr_web_list[i] == \"yelp\":\n",
        "    yelp_n+=1\n",
        "  elif y_train_df.values[i] == 0 and tr_web_list[i] == \"imdb\":\n",
        "    imdb_n+=1\n",
        "\n",
        "for i in range(0,2400):\n",
        "  if rst[i] == 1 and y_train_df.values[i] == 1 and tr_web_list[i] == \"amazon\":\n",
        "    amazon_tp+=1\n",
        "  elif rst[i] == 1 and y_train_df.values[i] == 1 and tr_web_list[i] == \"yelp\":\n",
        "    yelp_tp+=1\n",
        "  elif rst[i] == 1 and y_train_df.values[i] == 1 and tr_web_list[i] == \"imdb\":\n",
        "    imdb_tp+=1\n",
        "  elif rst[i] == 0 and y_train_df.values[i] == 0 and tr_web_list[i] == \"amazon\":\n",
        "    amazon_tn+=1\n",
        "  elif rst[i] == 0 and y_train_df.values[i] == 0 and tr_web_list[i] == \"yelp\":\n",
        "    yelp_tn+=1\n",
        "  elif rst[i] == 0 and y_train_df.values[i] == 0 and tr_web_list[i] == \"imdb\":\n",
        "    imdb_tn+=1\n",
        "  elif rst[i] == 1 and y_train_df.values[i] == 0 and tr_web_list[i] == \"amazon\":\n",
        "    amazon_fn+=1\n",
        "  elif rst[i] == 1 and y_train_df.values[i] == 0 and tr_web_list[i] == \"yelp\":\n",
        "    yelp_fn+=1\n",
        "  elif rst[i] == 1 and y_train_df.values[i] == 0 and tr_web_list[i] == \"imdb\":\n",
        "    imdb_fn+=1\n",
        "  elif rst[i] == 0 and y_train_df.values[i] == 1 and tr_web_list[i] == \"amazon\":\n",
        "    amazon_fp+=1\n",
        "  elif rst[i] == 0 and y_train_df.values[i] == 1 and tr_web_list[i] == \"yelp\":\n",
        "    yelp_fp+=1\n",
        "  elif rst[i] == 0 and y_train_df.values[i] == 1 and tr_web_list[i] == \"imdb\":\n",
        "    imdb_fp+=1\n",
        "\n",
        "print(\"OVERALL ACCURACY\")\n",
        "print(\".81875\")\n",
        "print(\"AMAZON ACCURACY\")\n",
        "print(str((amazon_tp+amazon_tn)/(amazon_n+amazon_p)))\n",
        "print(\"YELP ACCURACY\")\n",
        "print(str((yelp_tp+yelp_tn)/(yelp_n+yelp_p)))\n",
        "print(\"IMDB ACCURACY\")\n",
        "print(str((imdb_tp+imdb_tn)/(imdb_n+imdb_p)))\n",
        "print(\"AMAZON TRUE POSITIVE\")\n",
        "print(str((amazon_tp)/(amazon_p)))\n",
        "print(\"YELP TRUE POSITIVE\")\n",
        "print(str((yelp_tp)/(yelp_p)))\n",
        "print(\"IMDB TRUE POSITIVE\")\n",
        "print(str((imdb_tp)/(imdb_p)))\n",
        "print(\"AMAZON TRUE NEGATIVE\")\n",
        "print(str((amazon_tn)/(amazon_n)))\n",
        "print(\"YELP TRUE NEGATIVE\")\n",
        "print(str((yelp_tn)/(yelp_n)))\n",
        "print(\"IMDB TRUE NEGATIVE\")\n",
        "print(str((imdb_tn)/(imdb_n)))\n",
        "print(\"AMAZON FALSE POSITIVE\")\n",
        "print(str((amazon_fp)/(amazon_p)))\n",
        "print(\"YELP FALSE POSITIVE\")\n",
        "print(str((yelp_fp)/(yelp_p)))\n",
        "print(\"IMDB FALSE POSITIVE\")\n",
        "print(str((imdb_fp)/(imdb_p)))\n",
        "print(\"AMAZON FALSE NEGATIVE\")\n",
        "print(str((amazon_fn)/(amazon_n)))\n",
        "print(\"YELP FALSE NEGATIVE\")\n",
        "print(str((yelp_fn)/(yelp_n)))\n",
        "print(\"IMDB FALSE NEGATIVE\")\n",
        "print(str((imdb_fn)/(imdb_n)))"
      ],
      "execution_count": 0,
      "outputs": [
        {
          "output_type": "stream",
          "text": [
            "OVERALL ACCURACY\n",
            ".81875\n",
            "AMAZON ACCURACY\n",
            "0.7425\n",
            "YELP ACCURACY\n",
            "0.715\n",
            "IMDB ACCURACY\n",
            "0.715\n",
            "AMAZON TRUE POSITIVE\n",
            "0.6875\n",
            "YELP TRUE POSITIVE\n",
            "0.7275\n",
            "IMDB TRUE POSITIVE\n",
            "0.695\n",
            "AMAZON TRUE NEGATIVE\n",
            "0.7975\n",
            "YELP TRUE NEGATIVE\n",
            "0.7025\n",
            "IMDB TRUE NEGATIVE\n",
            "0.735\n",
            "AMAZON FALSE POSITIVE\n",
            "0.3125\n",
            "YELP FALSE POSITIVE\n",
            "0.2725\n",
            "IMDB FALSE POSITIVE\n",
            "0.305\n",
            "AMAZON FALSE NEGATIVE\n",
            "0.2025\n",
            "YELP FALSE NEGATIVE\n",
            "0.2975\n",
            "IMDB FALSE NEGATIVE\n",
            "0.265\n"
          ],
          "name": "stdout"
        }
      ]
    }
  ]
}