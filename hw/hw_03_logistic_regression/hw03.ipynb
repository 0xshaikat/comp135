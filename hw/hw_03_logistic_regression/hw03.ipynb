{
 "cells": [
  {
   "cell_type": "markdown",
   "metadata": {},
   "source": [
    "## Shaikat Islam \n",
    "\n"
   ]
  },
  {
   "cell_type": "markdown",
   "metadata": {},
   "source": [
    "## HW03 Code\n",
    "\n",
    "\n",
    "You will complete the following notebook, as described in the PDF for Homework 03 (included in the download with the starter code).  You will submit:\n",
    "1. This notebook file, along with your COLLABORATORS.txt file, to the Gradescope link for code.\n",
    "2. A PDF of this notebook and all of its output, once it is completed, to the Gradescope link for the PDF.\n",
    "\n",
    "\n",
    "Please report any questions to the [class Piazza page](https://piazza.com/class/k0grsypt15j73g).\n",
    "\n",
    "### Import required libraries."
   ]
  },
  {
   "cell_type": "code",
   "execution_count": 1,
   "metadata": {},
   "outputs": [],
   "source": [
    "import os\n",
    "import numpy as np\n",
    "import pandas as pd\n",
    "\n",
    "import sklearn.linear_model\n",
    "import sklearn.tree\n",
    "import sklearn.metrics\n",
    "\n",
    "from matplotlib import pyplot as plt\n",
    "from sklearn.linear_model import LogisticRegression\n",
    "from sklearn.neighbors import KNeighborsRegressor\n",
    "from sklearn.metrics import log_loss\n",
    "from sklearn.metrics import mean_squared_error\n",
    "\n",
    "import seaborn as sns"
   ]
  },
  {
   "cell_type": "markdown",
   "metadata": {},
   "source": [
    "## Part One: Cancer-Risk Screening\n",
    "\n",
    "### 1.1: Compute true/false positives/negatives.\n",
    "\n",
    "Complete the following code."
   ]
  },
  {
   "cell_type": "code",
   "execution_count": 2,
   "metadata": {},
   "outputs": [],
   "source": [
    "def calc_TP_TN_FP_FN(ytrue_N, yhat_N):\n",
    "    ''' Compute counts of four possible outcomes of a binary classifier for evaluation.\n",
    "    \n",
    "    Args\n",
    "    ----\n",
    "    ytrue_N : 1D array of floats\n",
    "        Each entry represents the binary value (0 or 1) of 'true' label of one example\n",
    "        One entry per example in current dataset\n",
    "    yhat_N : 1D array of floats\n",
    "        Each entry represents a predicted binary value (either 0 or 1).\n",
    "        One entry per example in current dataset.\n",
    "        Needs to be same size as ytrue_N.\n",
    "\n",
    "    Returns\n",
    "    -------\n",
    "    TP : float\n",
    "        Number of true positives\n",
    "    TN : float\n",
    "        Number of true negatives\n",
    "    FP : float\n",
    "        Number of false positives\n",
    "    FN : float\n",
    "        Number of false negatives\n",
    "    '''\n",
    "    TP = 0.0\n",
    "    TN = 0.0\n",
    "    FP = 0.0\n",
    "    FN = 0.0\n",
    "    if (len(ytrue_N) != len(yhat_N)):\n",
    "        print(\"Input vectors are not the same size.\")\n",
    "        return TP, TN, FP, FN\n",
    "    else:\n",
    "        for i in range(len(ytrue_N)):\n",
    "            # 0 means negative\n",
    "            # 1 means positive\n",
    "            if (yhat_N[i] == ytrue_N[i] and ytrue_N[i] == 1):\n",
    "                TP+=1\n",
    "            elif (yhat_N[i] == ytrue_N[i] and ytrue_N[i] == 0):\n",
    "                TN+=1\n",
    "            elif (yhat_N[i] != ytrue_N[i] and yhat_N[i] == 1):\n",
    "                FP+=1\n",
    "            elif (yhat_N[i] != ytrue_N[i] and yhat_N[i] == 0):\n",
    "                FN+=1\n",
    "    return TP, TN, FP, FN"
   ]
  },
  {
   "cell_type": "code",
   "execution_count": 3,
   "metadata": {},
   "outputs": [
    {
     "data": {
      "text/plain": [
       "(0.0, 0.0, 10.0, 0.0)"
      ]
     },
     "execution_count": 3,
     "metadata": {},
     "output_type": "execute_result"
    }
   ],
   "source": [
    "all0 = np.zeros(10)\n",
    "all1 = np.ones(10)\n",
    "calc_TP_TN_FP_FN(all0, all1)"
   ]
  },
  {
   "cell_type": "code",
   "execution_count": 4,
   "metadata": {},
   "outputs": [
    {
     "data": {
      "text/plain": [
       "(0.0, 0.0, 0.0, 10.0)"
      ]
     },
     "execution_count": 4,
     "metadata": {},
     "output_type": "execute_result"
    }
   ],
   "source": [
    "calc_TP_TN_FP_FN(all1, all0)"
   ]
  },
  {
   "cell_type": "code",
   "execution_count": 5,
   "metadata": {},
   "outputs": [
    {
     "data": {
      "text/plain": [
       "(10.0, 0.0, 0.0, 0.0)"
      ]
     },
     "execution_count": 5,
     "metadata": {},
     "output_type": "execute_result"
    }
   ],
   "source": [
    "calc_TP_TN_FP_FN(all1, all1)"
   ]
  },
  {
   "cell_type": "code",
   "execution_count": 6,
   "metadata": {},
   "outputs": [
    {
     "data": {
      "text/plain": [
       "(0.0, 10.0, 0.0, 0.0)"
      ]
     },
     "execution_count": 6,
     "metadata": {},
     "output_type": "execute_result"
    }
   ],
   "source": [
    "calc_TP_TN_FP_FN(all0, all0)"
   ]
  },
  {
   "cell_type": "markdown",
   "metadata": {},
   "source": [
    "### Supplied functions for later use\n",
    "\n",
    "***Do not*** edit the following functions.  They are already complete, and will be used in your later code."
   ]
  },
  {
   "cell_type": "code",
   "execution_count": 7,
   "metadata": {},
   "outputs": [],
   "source": [
    "def calc_perf_metrics_for_threshold(ytrue_N, yproba1_N, thresh):\n",
    "    ''' Compute performance metrics for a given probabilistic classifier and threshold\n",
    "    '''\n",
    "    tp, tn, fp, fn = calc_TP_TN_FP_FN(ytrue_N, yproba1_N >= thresh)\n",
    "    ## Compute ACC, TPR, TNR, etc.\n",
    "    acc = (tp + tn) / float(tp + tn + fp + fn + 1e-10)\n",
    "    tpr = tp / float(tp + fn + 1e-10)\n",
    "    tnr = tn / float(fp + tn + 1e-10)\n",
    "    ppv = tp / float(tp + fp + 1e-10)\n",
    "    npv = tn / float(tn + fn + 1e-10)\n",
    "    \n",
    "    return acc, tpr, tnr, ppv, npv\n",
    "\n",
    "def print_perf_metrics_for_threshold(ytrue_N, yproba1_N, thresh):\n",
    "    ''' Pretty print perf. metrics for a given probabilistic classifier and threshold\n",
    "    '''\n",
    "    acc, tpr, tnr, ppv, npv = calc_perf_metrics_for_threshold(ytrue_N, yproba1_N, thresh)\n",
    "    \n",
    "    ## Pretty print the results\n",
    "    print(\"%.3f ACC\" % acc)\n",
    "    print(\"%.3f TPR\" % tpr)\n",
    "    print(\"%.3f TNR\" % tnr)\n",
    "    print(\"%.3f PPV\" % ppv)\n",
    "    print(\"%.3f NPV\" % npv)"
   ]
  },
  {
   "cell_type": "code",
   "execution_count": 8,
   "metadata": {},
   "outputs": [],
   "source": [
    "def calc_confusion_matrix_for_threshold(ytrue_N, yproba1_N, thresh):\n",
    "    ''' Compute the confusion matrix for a given probabilistic classifier and threshold\n",
    "    \n",
    "    Args\n",
    "    ----\n",
    "    ytrue_N : 1D array of floats\n",
    "        Each entry represents the binary value (0 or 1) of 'true' label of one example\n",
    "        One entry per example in current dataset\n",
    "    yproba1_N : 1D array of floats\n",
    "        Each entry represents a probability (between 0 and 1) that correct label is positive (1)\n",
    "        One entry per example in current dataset\n",
    "        Needs to be same size as ytrue_N\n",
    "    thresh : float\n",
    "        Scalar threshold for converting probabilities into hard decisions\n",
    "        Calls an example \"positive\" if yproba1 >= thresh\n",
    "\n",
    "    Returns\n",
    "    -------\n",
    "    cm_df : Pandas DataFrame\n",
    "        Can be printed like print(cm_df) to easily display results\n",
    "    '''\n",
    "    cm = sklearn.metrics.confusion_matrix(ytrue_N, yproba1_N >= thresh)\n",
    "    cm_df = pd.DataFrame(data=cm, columns=[0, 1], index=[0, 1])\n",
    "    cm_df.columns.name = 'Predicted'\n",
    "    cm_df.index.name = 'True'\n",
    "    return cm_df"
   ]
  },
  {
   "cell_type": "code",
   "execution_count": 9,
   "metadata": {},
   "outputs": [],
   "source": [
    "def compute_perf_metrics_across_thresholds(ytrue_N, yproba1_N, thresh_grid=None):\n",
    "    ''' Compute common binary classifier performance metrics across many thresholds\n",
    "    \n",
    "    If no array of thresholds is provided, will use all 'unique' values\n",
    "    in the yproba1_N array to define all possible thresholds with different performance.\n",
    "    \n",
    "    Args\n",
    "    ----\n",
    "    ytrue_N : 1D array of floats\n",
    "        Each entry represents the binary value (0 or 1) of 'true' label of one example\n",
    "        One entry per example in current dataset\n",
    "    yproba1_N : 1D array of floats\n",
    "        Each entry represents a probability (between 0 and 1) that correct label is positive (1)\n",
    "        One entry per example in current dataset\n",
    "\n",
    "    Returns\n",
    "    -------\n",
    "    thresh_grid : 1D array of floats\n",
    "        One entry for each possible threshold\n",
    "    perf_dict : dict, with key, value pairs:\n",
    "        * 'acc' : 1D array of accuracy values (one per threshold)\n",
    "        * 'ppv' : 1D array of positive predictive values (one per threshold)\n",
    "        * 'npv' : 1D array of negative predictive values (one per threshold)\n",
    "        * 'tpr' : 1D array of true positive rates (one per threshold)\n",
    "        * 'tnr' : 1D array of true negative rates (one per threshold)\n",
    "    '''\n",
    "    if thresh_grid is None:\n",
    "        bin_edges = np.linspace(0, 1.001, 21)\n",
    "        thresh_grid = np.sort(np.hstack([bin_edges, np.unique(yproba1_N)]))\n",
    "    tpr_grid = np.zeros_like(thresh_grid)\n",
    "    tnr_grid = np.zeros_like(thresh_grid)\n",
    "    ppv_grid = np.zeros_like(thresh_grid)\n",
    "    npv_grid = np.zeros_like(thresh_grid)\n",
    "    acc_grid = np.zeros_like(thresh_grid)\n",
    "    for tt, thresh in enumerate(thresh_grid):\n",
    "        # Apply specific threshold to convert probas into hard binary values (0 or 1)\n",
    "        # Then count number of true positives, true negatives, etc.\n",
    "        # Then compute metrics like accuracy and true positive rate\n",
    "        acc, tpr, tnr, ppv, npv = calc_perf_metrics_for_threshold(ytrue_N, yproba1_N, thresh)\n",
    "        acc_grid[tt] = acc\n",
    "        tpr_grid[tt] = tpr\n",
    "        tnr_grid[tt] = tnr\n",
    "        ppv_grid[tt] = ppv\n",
    "        npv_grid[tt] = npv\n",
    "    return thresh_grid, dict(\n",
    "        acc=acc_grid,\n",
    "        tpr=tpr_grid,\n",
    "        tnr=tnr_grid,\n",
    "        ppv=ppv_grid,\n",
    "        npv=npv_grid)\n",
    "\n",
    "def make_plot_perf_vs_threshold(ytrue_N, yproba1_N, bin_edges=np.linspace(0, 1, 21)):\n",
    "    ''' Make pretty plot of binary classifier performance as threshold increases\n",
    "    \n",
    "    Produces a plot with 3 rows:\n",
    "    * top row: hist of predicted probabilities for negative examples (shaded red)\n",
    "    * middle row: hist of predicted probabilities for positive examples (shaded blue)\n",
    "    * bottom row: line plots of metrics that require hard decisions (ACC, TPR, TNR, etc.)\n",
    "    '''\n",
    "    fig, axes = plt.subplots(nrows=3, ncols=1, figsize=(12, 8))\n",
    "    sns.distplot(\n",
    "        yproba1_N[ytrue_N == 0],\n",
    "        color='r', bins=bin_edges, kde=False, rug=True, ax=axes[0]);\n",
    "    sns.distplot(\n",
    "        yproba1_N[ytrue_N == 1],\n",
    "        color='b', bins=bin_edges, kde=False, rug=True, ax=axes[1]);\n",
    "\n",
    "    thresh_grid, perf_grid = compute_perf_metrics_across_thresholds(ytrue_N, yproba1_N)\n",
    "    axes[2].plot(thresh_grid, perf_grid['acc'], 'k-', label='accuracy')\n",
    "    axes[2].plot(thresh_grid, perf_grid['tpr'], 'b-', label='TPR (recall/sensitivity)')\n",
    "    axes[2].plot(thresh_grid, perf_grid['tnr'], 'g-', label='TNR (specificity)')\n",
    "    axes[2].plot(thresh_grid, perf_grid['ppv'], 'c-', label='PPV (precision)')\n",
    "    axes[2].plot(thresh_grid, perf_grid['npv'], 'm-', label='NPV')\n",
    "    \n",
    "    axes[2].legend()\n",
    "    axes[2].set_ylim([0, 1])"
   ]
  },
  {
   "cell_type": "markdown",
   "metadata": {},
   "source": [
    "### Load the dataset.\n",
    "\n",
    "The following should ***not*** be modified.  After it runs, the various arrays it creates will contain the 2- or 3-feature input datasets."
   ]
  },
  {
   "cell_type": "code",
   "execution_count": 10,
   "metadata": {},
   "outputs": [],
   "source": [
    "# Load 3 feature version of x arrays\n",
    "x_tr_M3 = np.loadtxt('./data_cancer/x_train.csv', delimiter=',', skiprows=1)\n",
    "x_va_N3 = np.loadtxt('./data_cancer/x_valid.csv', delimiter=',', skiprows=1)\n",
    "x_te_N3 = np.loadtxt('./data_cancer/x_test.csv', delimiter=',', skiprows=1)\n",
    "\n",
    "# 2 feature version of x arrays\n",
    "x_tr_M2 = x_tr_M3[:, :2].copy()\n",
    "x_va_N2 = x_va_N3[:, :2].copy()\n",
    "x_te_N2 = x_te_N3[:, :2].copy()"
   ]
  },
  {
   "cell_type": "code",
   "execution_count": 11,
   "metadata": {},
   "outputs": [],
   "source": [
    "y_tr_M = np.loadtxt('./data_cancer/y_train.csv', delimiter=',', skiprows=1)\n",
    "y_va_N = np.loadtxt('./data_cancer/y_valid.csv', delimiter=',', skiprows=1)\n",
    "y_te_N = np.loadtxt('./data_cancer/y_test.csv', delimiter=',', skiprows=1)"
   ]
  },
  {
   "cell_type": "markdown",
   "metadata": {},
   "source": [
    "### 1.2: Compute the fraction of patients with cancer.\n",
    "\n",
    "Complete the following code.  Your solution needs to ***compute*** these values from the training, validation, and testing sets (i.e., don't simply hand-count and print the values)."
   ]
  },
  {
   "cell_type": "code",
   "execution_count": 12,
   "metadata": {},
   "outputs": [
    {
     "name": "stdout",
     "output_type": "stream",
     "text": [
      "Fraction with cancer in TRAIN: 0.141\n",
      "Fraction with cancer in VALID: 0.139\n",
      "Fraction with cancer in TEST : 0.139\n"
     ]
    }
   ],
   "source": [
    "def compute_fractions_w_cancer(input_arr):\n",
    "    ''' Compute fractional decimal of patients with cancer in input arrays\n",
    "       \n",
    "    Args\n",
    "    ----\n",
    "    input_arr: 1D array of floats\n",
    "        Each entry represents the binary value (0 or 1) of 'true' label if patient has cancer\n",
    "\n",
    "    Returns\n",
    "    -------\n",
    "    float: decimal representation of portion in dataset with cancer\n",
    "    \n",
    "    '''\n",
    "    count = 0\n",
    "    pos = 0\n",
    "    neg = 0\n",
    "    for entry in input_arr:\n",
    "        if (int(entry) == 1):\n",
    "            pos+=1\n",
    "            count+=1\n",
    "        else:\n",
    "            neg+=1\n",
    "            count+=1\n",
    "    return float(pos/count)\n",
    "\n",
    "print(\"Fraction with cancer in TRAIN: %.3f\" % compute_fractions_w_cancer(y_tr_M)) \n",
    "print(\"Fraction with cancer in VALID: %.3f\" % compute_fractions_w_cancer(y_va_N))\n",
    "print(\"Fraction with cancer in TEST : %.3f\" % compute_fractions_w_cancer(y_te_N))"
   ]
  },
  {
   "cell_type": "markdown",
   "metadata": {},
   "source": [
    "### 1.3: The predict-0-always baseline\n",
    "\n",
    "#### (a) Compute the accuracy of the always-0 classifier.\n",
    "\n",
    "Complete the code to compute and print the accuracy of the always-0 classifier on validation and test outputs."
   ]
  },
  {
   "cell_type": "code",
   "execution_count": 13,
   "metadata": {},
   "outputs": [
    {
     "name": "stdout",
     "output_type": "stream",
     "text": [
      "Always-0: accuracy on VALID: 0.861\n",
      "Always-0: accuracy on TEST : 0.861\n"
     ]
    }
   ],
   "source": [
    "def always_0_classifier(input_arr):\n",
    "    ''' Compute the accuracy of an always-0 classifier on an input_arr\n",
    "       \n",
    "    Args\n",
    "    ----\n",
    "    input_arr: 1D array of floats\n",
    "        Each entry represents the binary value (0 or 1) of 'true' label if patient has cancer\n",
    "\n",
    "    Returns\n",
    "    -------\n",
    "    float: decimal representation of accuracy of an always-0 classifier on input_arr\n",
    "    \n",
    "    '''\n",
    "    count = 0\n",
    "    correct = 0\n",
    "    for entry in input_arr:\n",
    "        if (int(entry) == 0):\n",
    "            correct+=1\n",
    "            count+=1\n",
    "        else:\n",
    "            count+=1\n",
    "    return float(correct/count)\n",
    "\n",
    "print(\"Always-0: accuracy on VALID: %.3f\" % always_0_classifier(y_va_N)) \n",
    "print(\"Always-0: accuracy on TEST : %.3f\" % always_0_classifier(y_te_N))"
   ]
  },
  {
   "cell_type": "markdown",
   "metadata": {},
   "source": [
    "#### (b) Print a confusion matrix for the always-0 classifier.\n",
    "\n",
    "Add code below to generate a confusion matrix for the always-0 classifier on the validation set."
   ]
  },
  {
   "cell_type": "code",
   "execution_count": 14,
   "metadata": {
    "scrolled": true
   },
   "outputs": [
    {
     "name": "stdout",
     "output_type": "stream",
     "text": [
      "Predicted    0  1\n",
      "True             \n",
      "0          155  0\n",
      "1           25  0\n"
     ]
    }
   ],
   "source": [
    "y_prob_always_zero = np.zeros(len(y_va_N))\n",
    "print(calc_confusion_matrix_for_threshold(y_va_N, y_prob_always_zero, always_0_classifier(y_va_N)))"
   ]
  },
  {
   "cell_type": "markdown",
   "metadata": {},
   "source": [
    "#### (c) Reflect on the accuracy of the always-0 classifier.\n",
    "\n",
    "**Answer**: The always-0 classifier has a reasonable accuracy; of the total 180 labels, 155 have accurately been classified with a predicted output of 0, but 25 of those 180 are false negatives, when in fact they should have been positive. We wouldn't just use it for this case because although the true output for this dataset is heavily biased towards a negative classification, the classifier's performance is not based on predicting true negatives (a task which the classifier has an accuracy of 86.1%)-- rather, it is based on predicting true positives (a task which the classifier has an accuracy of 0%). If this classifier was used by an oncologist, it would not be very useful, as it would predict no occurrences of cancer based on any combination of features in the input set, which is not possible -- cancer continues to exist, and has not been eradicated yet."
   ]
  },
  {
   "cell_type": "markdown",
   "metadata": {},
   "source": [
    "#### (d) Analyze the various costs of using the always-0 classifier.\n",
    "\n",
    "\n",
    "**Answer**: There are a few errors that using an always-0 classifier like the one described above can produce. One egregious error includes the possibility of predicting a false negative, which would mean a patient who has been screened with this model would have undiagnosed cancer. If this patient was claered of having cancer by an oncologist who used this model, the possible cost of having used this model is death. As a result, the model has a cost of death, as well as lost time at work as a result of illness, lost money as a result of lost time at work (in the patient's point of view), as well as emotional trauma (for the patient's loved ones and the patient) and physical trauma and pain (for the patient), and the possibility that the oncologist is sued for malpractice for using such a devastating model.  This is the most egregious error, as in the other cases where the always-0 classifier does make a correct prediction, patients do not have cancer regardless of what the model predicts. As a result of these possible costs, I would recommend that an oncologist or researcher not use this model as it has no utility in determining whether or not a patient has cancer."
   ]
  },
  {
   "cell_type": "markdown",
   "metadata": {},
   "source": [
    "### 1.4: Logistic Regression\n",
    "\n",
    "#### (a) Create a set of `LogisticRegression` models.\n",
    "\n",
    "Each model will use a different control parameter, `C`, and each will be fit to 2-feature data.  Probabilistic predictions will be made on both training set and validation set inputs, and logistic-loss for each will be recorded."
   ]
  },
  {
   "cell_type": "code",
   "execution_count": 15,
   "metadata": {},
   "outputs": [],
   "source": [
    "tr_loss_list = list()\n",
    "va_loss_list = list()\n",
    "te_loss_list = list()\n",
    "\n",
    "# dictionaries to hold values of C for parameter tuning vs the logistic loss \n",
    "# that each value of C gives for a specific input set\n",
    "tr_c_vs_loss_dict = {}\n",
    "va_c_vs_loss_dict = {}\n",
    "te_c_vs_loss_dict = {}\n",
    "\n",
    "def log_reg_two_features(input_set, output_set, loss_list, model_dict):\n",
    "    ''' Performs logistic regression on two feature data\n",
    "       \n",
    "    Args\n",
    "    ----\n",
    "    input_set: two feature cancer data \n",
    "    output_set: 1D array representing 0 (if no cancer), or 1, if cancer is present\n",
    "    loss_list: list structure to contain values of logistic loss for different instances of c, the inverse penalty\n",
    "    model_dict: dictionary structure to contain data of c vs. logistic loss for a given model\n",
    "    \n",
    "    Returns\n",
    "    -------\n",
    "    model_tuples: a tuple containing coordinates to be plotted representing c vs. logistic loss for a model \n",
    "    \n",
    "    '''\n",
    "    C_grid = np.logspace(-9, 6, 31)\n",
    "    for c in C_grid:\n",
    "        logreg = LogisticRegression(C=c, solver='liblinear')\n",
    "        logreg.fit(input_set, output_set)\n",
    "        prob_float = logreg.predict_proba(input_set)\n",
    "        logloss = log_loss(output_set, prob_float)\n",
    "        loss_list.append(logloss)\n",
    "        model_dict[c] = logloss\n",
    "        \n",
    "    model_tuples = sorted(model_dict.items(), key=lambda x: x[1])\n",
    "    return model_tuples\n",
    " \n",
    "tr_c_vs_loss_tuples = log_reg_two_features(x_tr_M2, y_tr_M, tr_loss_list, tr_c_vs_loss_dict)\n",
    "va_c_vs_loss_tuples = log_reg_two_features(x_va_N2, y_va_N, va_loss_list, va_c_vs_loss_dict)\n",
    "te_c_vs_loss_tuples = log_reg_two_features(x_te_N2, y_te_N, te_loss_list, te_c_vs_loss_dict)"
   ]
  },
  {
   "cell_type": "markdown",
   "metadata": {},
   "source": [
    "#### Plot logistic loss (y-axis) vs. C (x-axis) on the training set and validation set.\n",
    "\n",
    "The best values for `C` and the loss should be printed."
   ]
  },
  {
   "cell_type": "code",
   "execution_count": 16,
   "metadata": {},
   "outputs": [
    {
     "name": "stdout",
     "output_type": "stream",
     "text": [
      "Best C-value for LR with 2-feature data: 1000000.000\n",
      "Validation set log-loss at best C-value: 0.3469\n"
     ]
    },
    {
     "data": {
      "image/png": "[encoded data removed]",
      "text/plain": [
       "<Figure size 432x288 with 1 Axes>"
      ]
     },
     "metadata": {
      "needs_background": "light"
     },
     "output_type": "display_data"
    }
   ],
   "source": [
    "def x_y_corr(model_tuples):\n",
    "    ''' Return x and y coordinates from a list of tuples to plot using matplotlib\n",
    "       \n",
    "    Args\n",
    "    ----\n",
    "    model_arr: 2D array containing inverse penalty (C) vs. logistic loss data for a model\n",
    "        \n",
    "    Returns\n",
    "    -------\n",
    "    corr: x and y coordinates to be returned in a matplotlib friendly fashion\n",
    "    \n",
    "    '''\n",
    "    x_corr = []\n",
    "    y_corr = []\n",
    "    corr = []\n",
    "    for i in range(len(model_tuples)):\n",
    "        x_corr.append(model_tuples[i][0])\n",
    "        y_corr.append(model_tuples[i][1])\n",
    "    corr.append(x_corr)\n",
    "    corr.append(y_corr)\n",
    "    return corr\n",
    "\n",
    "corr_tr = x_y_corr(tr_c_vs_loss_tuples)\n",
    "corr_va = x_y_corr(va_c_vs_loss_tuples)\n",
    "plt.xlabel('log10(C)');\n",
    "plt.ylabel('logistic loss');\n",
    "plt.ylim([0.0, 0.7]);\n",
    "plt.plot(corr_tr[0], corr_tr[1], label=\"Training Data\");\n",
    "plt.plot(corr_va[0], corr_va[1], label=\"Validation Data\")\n",
    "plt.legend(bbox_to_anchor=(1.05, 1), loc='upper left', borderaxespad=0.)\n",
    "\n",
    "print(\"Best C-value for LR with 2-feature data: %.3f\" % va_c_vs_loss_tuples[0][0]) # TODO\n",
    "print(\"Validation set log-loss at best C-value: %.4f\" % va_c_vs_loss_tuples[0][1])"
   ]
  },
  {
   "cell_type": "markdown",
   "metadata": {},
   "source": [
    "#### (b) Plot the performance of the predictions made by the best classifier from step (a) on the validation set."
   ]
  },
  {
   "cell_type": "code",
   "execution_count": 17,
   "metadata": {
    "scrolled": false
   },
   "outputs": [
    {
     "data": {
      "image/png": "[encoded data removed]",
      "text/plain": [
       "<Figure size 864x576 with 3 Axes>"
      ]
     },
     "metadata": {
      "needs_background": "light"
     },
     "output_type": "display_data"
    }
   ],
   "source": [
    "def get_y_prob(input_set, output_set, c):\n",
    "    ''' Returns predicted output set for input set x, with inverse penalty c\n",
    "       \n",
    "    Args\n",
    "    ----\n",
    "    input_set: two or three feature cancer data \n",
    "    output_set: 1D array representing 0 (if no cancer), or 1, if cancer is present\n",
    "    c: inverse penalty (float)\n",
    "    Returns\n",
    "    -------\n",
    "    y_pred: predicted output set for an input x\n",
    "    \n",
    "    '''\n",
    "    logreg = LogisticRegression(C=c, solver='liblinear')\n",
    "    logreg.fit(input_set, output_set)\n",
    "    y_pred = logreg.predict(input_set)\n",
    "    return y_pred\n",
    "\n",
    "y_pred = get_y_prob(x_va_N2, y_va_N, va_c_vs_loss_tuples[0][0])\n",
    "make_plot_perf_vs_threshold(y_va_N, y_pred)"
   ]
  },
  {
   "cell_type": "markdown",
   "metadata": {},
   "source": [
    "#### (c) Model fitting with 3-feature data\n",
    "\n",
    "Repeat the model generation from **1.4 (a)**, using the full 3-feature data."
   ]
  },
  {
   "cell_type": "code",
   "execution_count": 18,
   "metadata": {},
   "outputs": [],
   "source": [
    "tr_loss_3f_list = list()\n",
    "va_loss_3f_list = list()\n",
    "te_loss_3f_list = list()\n",
    "\n",
    "# dictionaries to hold values of C for parameter tuning vs the logistic loss \n",
    "# that each value of C gives for a specific input set\n",
    "tr_c_vs_loss_3f_dict = {}\n",
    "va_c_vs_loss_3f_dict = {}\n",
    "te_c_vs_loss_3f_dict = {}\n",
    "\n",
    "def log_reg_three_features(input_set, output_set, loss_list, model_dict):\n",
    "    ''' Performs logistic regression on two feature data\n",
    "       \n",
    "    Args\n",
    "    ----\n",
    "    input_set: three feature cancer data \n",
    "    output_set: 1D array representing 0 (if no cancer), or 1, if cancer is present\n",
    "    loss_list: list structure to contain values of logistic loss for different instances of c, the inverse penalty\n",
    "    model_dict: dictionary structure to contain data of c vs. logistic loss for a given model\n",
    "    \n",
    "    Returns\n",
    "    -------\n",
    "    model_tuples: a tuple containing coordinates to be plotted representing c vs. logistic loss for a model \n",
    "    \n",
    "    '''\n",
    "    C_grid = np.logspace(-9, 6, 31)\n",
    "    for c in C_grid:\n",
    "        logreg = LogisticRegression(C=c, solver='liblinear')\n",
    "        logreg.fit(input_set, output_set)\n",
    "        prob_float = logreg.predict_proba(input_set)\n",
    "        logloss = log_loss(output_set, prob_float)\n",
    "        loss_list.append(logloss)\n",
    "        model_dict[c] = logloss\n",
    "        \n",
    "    model_tuples = sorted(model_dict.items(), key=lambda x: x[1])\n",
    "    return model_tuples\n",
    " \n",
    "tr_c_vs_loss_3f_tuples = log_reg_three_features(x_tr_M3, y_tr_M, tr_loss_3f_list, tr_c_vs_loss_3f_dict)\n",
    "va_c_vs_loss_3f_tuples = log_reg_three_features(x_va_N3, y_va_N, va_loss_3f_list, va_c_vs_loss_3f_dict)\n",
    "te_c_vs_loss_3f_tuples = log_reg_three_features(x_te_N3, y_te_N, te_loss_3f_list, te_c_vs_loss_3f_dict)"
   ]
  },
  {
   "cell_type": "markdown",
   "metadata": {},
   "source": [
    "#### Plot logistic loss (y-axis) vs. C (x-axis) for the 3-feature classifiers on the training set and validation set.\n",
    "\n",
    "Again, the best values for `C` and the loss should be printed."
   ]
  },
  {
   "cell_type": "code",
   "execution_count": 19,
   "metadata": {},
   "outputs": [
    {
     "name": "stdout",
     "output_type": "stream",
     "text": [
      "Best C-value for LR with 2-feature data: 1000000.000\n",
      "Validation set log-loss at best C-value: 0.2577\n"
     ]
    },
    {
     "data": {
      "image/png": "[encoded data removed]",
      "text/plain": [
       "<Figure size 432x288 with 1 Axes>"
      ]
     },
     "metadata": {
      "needs_background": "light"
     },
     "output_type": "display_data"
    }
   ],
   "source": [
    "corr_tr_3f = x_y_corr(tr_c_vs_loss_3f_tuples)\n",
    "corr_va_3f = x_y_corr(va_c_vs_loss_3f_tuples)\n",
    "plt.xlabel('log10(C)');\n",
    "plt.ylabel('logistic loss');\n",
    "plt.ylim([0.0, 0.7]);\n",
    "plt.plot(corr_tr_3f[0], corr_tr_3f[1], label=\"Training Data\");\n",
    "plt.plot(corr_va_3f[0], corr_va_3f[1], label=\"Validation Data\")\n",
    "plt.legend(bbox_to_anchor=(1.05, 1), loc='upper left', borderaxespad=0.)\n",
    "\n",
    "print(\"Best C-value for LR with 2-feature data: %.3f\" % va_c_vs_loss_3f_tuples[0][0]) \n",
    "print(\"Validation set log-loss at best C-value: %.4f\" % va_c_vs_loss_3f_tuples[0][1])"
   ]
  },
  {
   "cell_type": "markdown",
   "metadata": {},
   "source": [
    "#### Plot the performance of the predictions made by the best 3-valued classifier on the validation set."
   ]
  },
  {
   "cell_type": "code",
   "execution_count": 20,
   "metadata": {},
   "outputs": [
    {
     "data": {
      "image/png": "[encoded data removed]",
      "text/plain": [
       "<Figure size 864x576 with 3 Axes>"
      ]
     },
     "metadata": {
      "needs_background": "light"
     },
     "output_type": "display_data"
    }
   ],
   "source": [
    "y_pred = get_y_prob(x_va_N3, y_va_N, va_c_vs_loss_3f_tuples[0][0])\n",
    "make_plot_perf_vs_threshold(y_va_N, y_pred)"
   ]
  },
  {
   "cell_type": "markdown",
   "metadata": {},
   "source": [
    "### 1.5: ROC Curves\n",
    "\n",
    "These curves allow us to compare model performance in terms of trade-offs between false positive and true positive results.\n",
    "\n",
    "#### (a) Plot ROC curves on the validation set.\n",
    "\n",
    "There should be two curves in the plot, one for each of the best two classifiers from prior steps."
   ]
  },
  {
   "cell_type": "code",
   "execution_count": 21,
   "metadata": {},
   "outputs": [
    {
     "data": {
      "text/plain": [
       "<matplotlib.legend.Legend at 0x7f9c2e085ad0>"
      ]
     },
     "execution_count": 21,
     "metadata": {},
     "output_type": "execute_result"
    },
    {
     "data": {
      "image/png": "[encoded data removed]",
      "text/plain": [
       "<Figure size 432x288 with 1 Axes>"
      ]
     },
     "metadata": {
      "needs_background": "light"
     },
     "output_type": "display_data"
    }
   ],
   "source": [
    "def get_y_prob(input_set, output_set, c):\n",
    "    ''' Returns probability of a positive label in the output set for input set x, with best inverse penalty c\n",
    "       \n",
    "    Args\n",
    "    ----\n",
    "    input_set: two or three feature cancer data \n",
    "    output_set: 1D array representing 0 (if no cancer), or 1, if cancer is present\n",
    "    c: inverse penalty (float)\n",
    "    Returns\n",
    "    -------\n",
    "    y_prob: (1D array) probability for an input x that an output is positive\n",
    "    \n",
    "    '''\n",
    "    logreg = LogisticRegression(C=c, solver='liblinear')\n",
    "    logreg.fit(input_set, output_set)\n",
    "    y_prob = logreg.predict_proba(input_set)\n",
    "    y_prob = y_prob[:,1]\n",
    "    return y_prob\n",
    "\n",
    "y_prob_validation_2f = get_y_prob(x_va_N2, y_va_N, va_c_vs_loss_tuples[0][0])\n",
    "y_prob_validation_3f = get_y_prob(x_va_N3, y_va_N, va_c_vs_loss_3f_tuples[0][0])\n",
    "va_2f_fpr, va_2f_tpr, va_2f_thr = sklearn.metrics.roc_curve(y_va_N, y_prob_validation_2f)\n",
    "va_3f_fpr, va_3f_tpr, va_3f_thr = sklearn.metrics.roc_curve(y_va_N, y_prob_validation_3f)\n",
    "\n",
    "plt.ylim([0, 1]);\n",
    "plt.xlabel(\"False Positive rate (FPR = 1 - TPR)\");\n",
    "plt.ylabel(\"True Positive rate (TPR)\");\n",
    "plt.plot(va_2f_fpr, va_2f_tpr, label='Two Feature Validation Set')\n",
    "plt.plot(va_3f_fpr, va_3f_tpr, label='Three Feature Validation Set')\n",
    "plt.legend(bbox_to_anchor=(1.05, 1), loc='upper left', borderaxespad=0.)"
   ]
  },
  {
   "cell_type": "markdown",
   "metadata": {},
   "source": [
    "#### (b) Plot ROC curves on the test set.\n",
    "\n",
    "There should be two curves in the plot, one for each of the best two classifiers from prior steps."
   ]
  },
  {
   "cell_type": "code",
   "execution_count": 22,
   "metadata": {},
   "outputs": [
    {
     "data": {
      "text/plain": [
       "<matplotlib.legend.Legend at 0x7f9c2dff6590>"
      ]
     },
     "execution_count": 22,
     "metadata": {},
     "output_type": "execute_result"
    },
    {
     "data": {
      "image/png": "[encoded data removed]",
      "text/plain": [
       "<Figure size 432x288 with 1 Axes>"
      ]
     },
     "metadata": {
      "needs_background": "light"
     },
     "output_type": "display_data"
    }
   ],
   "source": [
    "y_prob_test_2f = get_y_prob(x_te_N2, y_te_N, te_c_vs_loss_tuples[0][0])\n",
    "y_prob_test_3f = get_y_prob(x_te_N3, y_te_N, te_c_vs_loss_3f_tuples[0][0])\n",
    "te_2f_fpr, te_2f_tpr, te_2f_thr = sklearn.metrics.roc_curve(y_te_N, y_prob_test_2f)\n",
    "te_3f_fpr, te_3f_tpr, te_3f_thr = sklearn.metrics.roc_curve(y_te_N, y_prob_test_3f)\n",
    "\n",
    "plt.ylim([0, 1]);\n",
    "plt.xlabel(\"False Positive rate (FPR = 1 - TPR)\");\n",
    "plt.ylabel(\"True Positive rate (TPR)\");\n",
    "plt.plot(te_2f_fpr, te_2f_tpr, label='Two Feature Test Set')\n",
    "plt.plot(te_3f_fpr, te_3f_tpr, label='Three Feature Test Set')\n",
    "plt.legend(bbox_to_anchor=(1.05, 1), loc='upper left', borderaxespad=0.)"
   ]
  },
  {
   "cell_type": "markdown",
   "metadata": {},
   "source": [
    "#### (c) Analyze the results shown in both the above plots, to compare classifier performance."
   ]
  },
  {
   "cell_type": "markdown",
   "metadata": {},
   "source": [
    "**Answer**: It is clear that for this binary classifier, the three feature set for both validation and test sets has better performance than the two feature input set. One can gather this from determining the Area Under the Curve (AUC) visually between both models, under the curves. For both the test set and the validation set, the area under the curve for the three feature input set is lower than that of the three feature input set. This means that the three feature input set, in both instances, allows for less false positives for each true positive, making the three feature input set rank higher than the two feature input set, in terms of performance. An ideal classifier would have a line from FPR = 0 and TPR = 0 to FPR = 0 to TPR = 1.0, (0.0, 0.0) to (0.0, 1.0), which would suggest that the model has no false positives per true negative, suggesting a very accurate model. Comparing the two input sets, the validation set and the test set, it can be seen that the test set has better performance than the validation set in the two feature and three feature models, which can be explained: the vaidation set is used to adjust (validate) the weights being used in both models, which means that it is being used to minimize overfitting. It matters more that the testing set has better performance in terms of ROC because the testing set is what is used to confirm the how well the model predicts; the validation set is used to tune the model and minimize overfitting."
   ]
  },
  {
   "cell_type": "markdown",
   "metadata": {},
   "source": [
    "### 1.6: Selecting a decision threshold\n",
    "\n",
    "#### (a) Using default 0.5 threshold. \n",
    "\n",
    "Generate a confusion matrix for the best 3-feature logistic model on the test set, using threshold 0.5."
   ]
  },
  {
   "cell_type": "code",
   "execution_count": 23,
   "metadata": {},
   "outputs": [
    {
     "name": "stdout",
     "output_type": "stream",
     "text": [
      "ON THE VALIDATION SET:\n",
      "Chosen best thr = 0.5000\n",
      "\n",
      "ON THE TEST SET:\n",
      "Predicted    0   1\n",
      "True              \n",
      "0          149   6\n",
      "1           14  11\n",
      "\n",
      "0.889 ACC\n",
      "0.440 TPR\n",
      "0.961 TNR\n",
      "0.647 PPV\n",
      "0.914 NPV\n",
      "None\n"
     ]
    }
   ],
   "source": [
    "best_thr = 0.5\n",
    "\n",
    "\n",
    "print(\"ON THE VALIDATION SET:\")\n",
    "print(\"Chosen best thr = %.4f\" % best_thr)\n",
    "print(\"\")\n",
    "print(\"ON THE TEST SET:\")\n",
    "print(calc_confusion_matrix_for_threshold(y_te_N, y_prob_test_3f, best_thr))\n",
    "print(\"\")\n",
    "print(print_perf_metrics_for_threshold(y_te_N, y_prob_test_3f, best_thr))"
   ]
  },
  {
   "cell_type": "markdown",
   "metadata": {},
   "source": [
    "#### (b) Pick a threshold to maximize TPR, while ensuring PPV >= 0.98.\n",
    "\n",
    "After finding the best threshold on the validation set, plot its confusion matrix and print its various performance metrics, for the test set."
   ]
  },
  {
   "cell_type": "code",
   "execution_count": 24,
   "metadata": {},
   "outputs": [
    {
     "name": "stdout",
     "output_type": "stream",
     "text": [
      "ON THE VALIDATION SET:\n",
      "Chosen best thr = 0.7302\n",
      "\n",
      "ON THE TEST SET:\n",
      "Predicted    0  1\n",
      "True             \n",
      "0          155  0\n",
      "1           18  7\n",
      "\n",
      "0.900 ACC\n",
      "0.280 TPR\n",
      "1.000 TNR\n",
      "1.000 PPV\n",
      "0.896 NPV\n",
      "None\n"
     ]
    }
   ],
   "source": [
    "thresh_grid, perf_grid = compute_perf_metrics_across_thresholds(y_va_N, y_prob_validation_3f)\n",
    "\n",
    "def maximize_key_1(threshold_grid, performance_dict, key_1, key_2, threshold):\n",
    "    ''' Mazimizes the value for a given key_1 in the performance dictionary returned\n",
    "    by compute_perf_metrics_acroos_thresholds, while ensuring the corresponding \n",
    "    value for the given key_2 in the performance dictionary is at a certain threshold\n",
    "    \n",
    "       \n",
    "    Args\n",
    "    ----\n",
    "    threshold_grid: 1D array of floats returned by compute_perf_metrics_across_thresholds\n",
    "    performance_dict: performance dictionary returned by compute_perf_metrics_across_thresholds\n",
    "    key_1: 'acc' (accuracy), 'ppv' (positive predictive values), 'npv' (negative predictive values),\n",
    "           'tpr' (true positive rates), or 'tnr' (true negative rates)\n",
    "    key_2: 'acc' (accuracy), 'ppv' (positive predictive values), 'npv' (negative predictive values),\n",
    "           'tpr' (true positive rates), or 'tnr' (true negative rates)  \n",
    "    threshold: float representing threshold for key_2\n",
    "    Returns\n",
    "    -------\n",
    "    thres: threshold that maximizes output of key_1, while maintaining key_2\n",
    "    \n",
    "    '''\n",
    "    thres = 0.0\n",
    "    max_key_1 = float('-inf')\n",
    "    for i in range(len(threshold_grid)):\n",
    "        if (performance_dict[key_1][i] > max_key_1) and (performance_dict[key_2][i] >= threshold):\n",
    "            max_key_1 = performance_dict[key_1][i]\n",
    "            thres = threshold_grid[i]\n",
    "    return thres\n",
    "  \n",
    "best_thr = maximize_key_1(thresh_grid, perf_grid, 'tpr', 'ppv', 0.98)\n",
    "print(\"ON THE VALIDATION SET:\")\n",
    "print(\"Chosen best thr = %.4f\" % best_thr)\n",
    "print(\"\")\n",
    "print(\"ON THE TEST SET:\")\n",
    "print(calc_confusion_matrix_for_threshold(y_te_N, y_prob_test_3f, best_thr))\n",
    "print(\"\")\n",
    "print(print_perf_metrics_for_threshold(y_te_N, y_prob_test_3f, best_thr))"
   ]
  },
  {
   "cell_type": "markdown",
   "metadata": {},
   "source": [
    "#### (c) Pick a threshold to maximize PPV, while ensuring TPR >= 0.98.\n",
    "\n",
    "After finding the best threshold on the validation set, plot its confusion matrix and print its various performance metrics, for the test set."
   ]
  },
  {
   "cell_type": "code",
   "execution_count": 25,
   "metadata": {},
   "outputs": [
    {
     "name": "stdout",
     "output_type": "stream",
     "text": [
      "ON THE VALIDATION SET:\n",
      "Chosen best thr = 0.0186\n",
      "\n",
      "ON THE TEST SET:\n",
      "Predicted   0   1\n",
      "True             \n",
      "0          73  82\n",
      "1           0  25\n",
      "\n",
      "0.544 ACC\n",
      "1.000 TPR\n",
      "0.471 TNR\n",
      "0.234 PPV\n",
      "1.000 NPV\n",
      "None\n"
     ]
    }
   ],
   "source": [
    "thresh_grid, perf_grid = compute_perf_metrics_across_thresholds(y_va_N, y_prob_validation_3f)\n",
    "best_thr = maximize_key_1(thresh_grid, perf_grid, 'ppv', 'tpr', 0.98)\n",
    "print(\"ON THE VALIDATION SET:\")\n",
    "print(\"Chosen best thr = %.4f\" % best_thr) # TODO\n",
    "print(\"\")\n",
    "print(\"ON THE TEST SET:\")\n",
    "print(calc_confusion_matrix_for_threshold(y_te_N, y_prob_test_3f, best_thr))\n",
    "print(\"\")\n",
    "print(print_perf_metrics_for_threshold(y_te_N, y_prob_test_3f, best_thr))"
   ]
  },
  {
   "cell_type": "markdown",
   "metadata": {},
   "source": [
    "#### (d) Compare the confusion matrices from (a)–(c) to analyze the different thresholds."
   ]
  },
  {
   "cell_type": "markdown",
   "metadata": {},
   "source": [
    "**Answer**: For the confusion matrix in subproblem (a), a default threshold of 0.5 was used, which resulted in a TPR of .440, a TNR of .961, a FPR (false positive rate) of .039, and a FNR (false negative rate) of .56. For the confusion matrix in subproblem (b), TPR was maximized while PPV >= .98. This resulted in a chosen best threshold of .7302, which resulted in a TPR of .280, a TNR of 1.0, a FPR of 0, and a FNR of .72. For the confusion matrix in subproblem (c), where PPV was maximized while TPR >= .98, in which the best threshold is .0186, the TPR is 1.0, the TNR is .471, the FPR is .53, and the FNR is 0. The false positive rate is a type 1 error, and the false negative rate is a type 2 error. The cost that matters the most in these three cases is the false negative rate, a type 2 error which means a patient is falsely predicted to not have cancer when they do actually have it. This metric must be as low as possible, while the type 1 error (the False Positive Rate, FPR) is also as low as possible to avoid unnecessary biopsies. Since the cost of the type 2 error of not predicting cancer (FNR) is more severe than the cost of the type 1 error (FPR) of an unnecessary biopsy, the best threshold is the one that minimizes FNR first. In this case, this would be the threshold generated when PPV was maximized, while ensuring that TPR >= .98, in subproblem (c). The FNR in this case was 0, which matters more than the relatively high FPR of .53. Thus, the best threshold here is .0186."
   ]
  },
  {
   "cell_type": "markdown",
   "metadata": {},
   "source": [
    "#### (e) How many biopsies can be avoided using the best threshold for the classifier?"
   ]
  },
  {
   "cell_type": "markdown",
   "metadata": {},
   "source": [
    "**Answer**: If we were to hold the cost of a type 2 error higher than that of a type 1 error, as in the case above in subproblem (e), than the model that maximizes PPV while ensuring TPR >= .98 provides the best threshold of .0186. If this classifier were used by the hospital, the FPR would be .53, which means 1-FPR biopsies could be avoided, which is 47% of all biopsies."
   ]
  },
  {
   "cell_type": "markdown",
   "metadata": {},
   "source": [
    "## Part Two: Abalone Age\n",
    "\n",
    "### 2.1: Build k-neighor regression models.\n",
    "\n",
    "Your code should load the abalone data, and build a sequence of nearest neighbor models for it.  For each model, the MSE on the various input sets should be determined."
   ]
  },
  {
   "cell_type": "code",
   "execution_count": 26,
   "metadata": {},
   "outputs": [],
   "source": [
    "k_grid = [1, 3, 5, 7, 9, 11, 21, 41, 61, 81, 101, 201, 401, 801]\n",
    "\n",
    "# load feature data\n",
    "x_tr_ab = np.loadtxt('./data_abalone/x_train.csv', delimiter=',', skiprows=1)\n",
    "x_va_ab = np.loadtxt('./data_abalone/x_valid.csv', delimiter=',', skiprows=1)\n",
    "x_te_ab = np.loadtxt('./data_abalone/x_test.csv', delimiter=',', skiprows=1)\n",
    "\n",
    "# load output data\n",
    "y_tr_ab = np.loadtxt('./data_abalone/y_train.csv', delimiter=',', skiprows=1)\n",
    "y_va_ab = np.loadtxt('./data_abalone/y_valid.csv', delimiter=',', skiprows=1)\n",
    "y_te_ab = np.loadtxt('./data_abalone/y_test.csv', delimiter=',', skiprows=1)\n",
    "\n",
    "def run_k_neighbors_and_calc_mse(k_grid, input_set, output_set):\n",
    "    ''' Builds k-neighbors regression models and calculates mean squared error\n",
    "    for various values of k, on abalone data\n",
    "       \n",
    "    Args\n",
    "    ----\n",
    "    k_grid: 1D array of ints representing values of k\n",
    "    input_set: n-dimensional feature data for abalone \n",
    "    output_set: 1D data (y_true) representing the number of rings an abalone has\n",
    "    Returns\n",
    "    -------\n",
    "    mse: 1D array of floats representing the mean_squared_error for the input set\n",
    "    and the predicted model for a certain value of k\n",
    "    \n",
    "    '''\n",
    "    \n",
    "    mse = []\n",
    "    y_pred = []\n",
    "    for i in range(len(k_grid)):\n",
    "        neigh = KNeighborsRegressor(n_neighbors= k_grid[i])\n",
    "        neigh.fit(x_tr_ab, y_tr_ab)\n",
    "        y_pred = neigh.predict(input_set)\n",
    "        mean_squared = mean_squared_error(output_set, y_pred)  \n",
    "        mse.append(mean_squared)\n",
    "    return mse\n",
    "        \n",
    "mse_validation = run_k_neighbors_and_calc_mse(k_grid, x_va_ab, y_va_ab)\n",
    "mse_testing = run_k_neighbors_and_calc_mse(k_grid, x_te_ab, y_te_ab)        "
   ]
  },
  {
   "cell_type": "markdown",
   "metadata": {},
   "source": [
    "### 2.2: Plot the MSE.\n",
    "\n",
    "Your code should plot the mean squared error on the test and validation sets, for each of the settings of the number of neighbors."
   ]
  },
  {
   "cell_type": "code",
   "execution_count": 27,
   "metadata": {},
   "outputs": [
    {
     "data": {
      "text/plain": [
       "<matplotlib.legend.Legend at 0x7f9c2dfcfe10>"
      ]
     },
     "execution_count": 27,
     "metadata": {},
     "output_type": "execute_result"
    },
    {
     "data": {
      "image/png": "[encoded data removed]",
      "text/plain": [
       "<Figure size 432x288 with 1 Axes>"
      ]
     },
     "metadata": {
      "needs_background": "light"
     },
     "output_type": "display_data"
    }
   ],
   "source": [
    "plt.xlabel('n_neighbors');\n",
    "plt.ylabel('mean squared error');\n",
    "\n",
    "plt.plot(k_grid, mse_validation, label='MSE for Abalone Validation Set')\n",
    "plt.plot(k_grid, mse_testing, label='MSE for Abalone Test Set')\n",
    "plt.legend(bbox_to_anchor=(1.05, 1), loc='upper left', borderaxespad=0.)\n"
   ]
  },
  {
   "cell_type": "markdown",
   "metadata": {},
   "source": [
    "### 2.3: Determine best overall model."
   ]
  },
  {
   "cell_type": "code",
   "execution_count": 28,
   "metadata": {},
   "outputs": [
    {
     "name": "stdout",
     "output_type": "stream",
     "text": [
      "The minimal error model on the validation set has n_neighbors = 21\n",
      "The mean-squared error for the training set is 4.384234 at n-neighbors = 21\n",
      "The mean-squared error for the testing set is 4.542798 at n-neighbors = 21\n",
      "The mean-squared error for the validation set is 4.804739 at n-neighbors = 21\n"
     ]
    }
   ],
   "source": [
    "def determine_minimal_error(mse_array, k_grid):\n",
    "    ''' Finds best possible k value by determining the lowest possible mean squared error for \n",
    "        a k-neighbors model\n",
    "       \n",
    "    Args\n",
    "    ----\n",
    "    mse_array: 1D array of floats representing mean squared error for values of k in k_grid, respectively\n",
    "    k_grid: 1D array representing possible values of k\n",
    "    \n",
    "    Returns\n",
    "    -------\n",
    "    best_k_val: the best possible k_val with the lowest possible mean squared error, as determined in the \n",
    "    mse_array\n",
    "    \n",
    "    '''\n",
    "    min_mse = float('inf')\n",
    "    best_k_val = 0\n",
    "    for i in range(len(k_grid)):\n",
    "        if mse_array[i] < min_mse:\n",
    "            min_mse = mse_array[i]\n",
    "            best_k_val = k_grid[i]\n",
    "    return best_k_val\n",
    "\n",
    "def pretty_print_mse_at_optimal_k(k, input_set, output_set, data_label):\n",
    "    neigh = KNeighborsRegressor(n_neighbors= k)\n",
    "    neigh.fit(x_tr_ab, y_tr_ab)\n",
    "    y_pred = neigh.predict(input_set)\n",
    "    mean_squared = mean_squared_error(output_set, y_pred)  \n",
    "    print(\"The mean-squared error for the \" + data_label + \" set is %f\" % mean_squared + \" at n-neighbors = %d\" % k)\n",
    "    \n",
    "            \n",
    "print(\"The minimal error model on the validation set has n_neighbors = %d\" % determine_minimal_error(mse_validation, k_grid)) # TODO: fix\n",
    "pretty_print_mse_at_optimal_k(determine_minimal_error(mse_validation, k_grid), x_tr_ab, y_tr_ab, \"training\")\n",
    "pretty_print_mse_at_optimal_k(determine_minimal_error(mse_validation, k_grid), x_te_ab, y_te_ab, \"testing\")\n",
    "pretty_print_mse_at_optimal_k(determine_minimal_error(mse_validation, k_grid), x_va_ab, y_va_ab, \"validation\")"
   ]
  }
 ],
 "metadata": {
  "kernelspec": {
   "display_name": "Python 3",
   "language": "python",
   "name": "python3"
  },
  "language_info": {
   "codemirror_mode": {
    "name": "ipython",
    "version": 3
   },
   "file_extension": ".py",
   "mimetype": "text/x-python",
   "name": "python",
   "nbconvert_exporter": "python",
   "pygments_lexer": "ipython3",
   "version": "3.7.4"
  }
 },
 "nbformat": 4,
 "nbformat_minor": 2
}
